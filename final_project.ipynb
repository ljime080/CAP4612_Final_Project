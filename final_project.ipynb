{
 "cells": [
  {
   "cell_type": "code",
   "execution_count": 88,
   "metadata": {},
   "outputs": [],
   "source": [
    "import datetime as dt\n",
    "import math\n",
    "import numpy as np\n",
    "import pandas as pd\n",
    "import matplotlib.pyplot as plt\n",
    "import seaborn as sns\n",
    "\n",
    "\n",
    "from sklearn.linear_model import LogisticRegression\n",
    "from sklearn.neighbors import KNeighborsClassifier\n",
    "from sklearn.tree import DecisionTreeClassifier\n",
    "from sklearn.tree import plot_tree\n",
    "from sklearn.svm import SVC\n",
    "\n",
    "\n",
    "from sklearn.preprocessing import OneHotEncoder, StandardScaler\n",
    "from sklearn.model_selection import train_test_split , GridSearchCV\n",
    "\n",
    "\n",
    "from sklearn.metrics import ConfusionMatrixDisplay , roc_auc_score , accuracy_score\n",
    "from sklearn.metrics import RocCurveDisplay\n",
    "\n",
    "\n",
    "from sklearn.pipeline import Pipeline\n",
    "from sklearn.compose import ColumnTransformer\n",
    "from sklearn.feature_selection import SelectKBest, f_classif\n",
    "\n",
    "import warnings\n",
    "warnings.filterwarnings('ignore')"
   ]
  },
  {
   "cell_type": "code",
   "execution_count": 89,
   "metadata": {},
   "outputs": [],
   "source": [
    "dow_categories = ['Monday' , 'Tuesday' , 'Wednesday' , 'Thursday' , 'Friday' , 'Saturday' , 'Sunday']\n",
    "\n",
    "def is_fatal(details):\n",
    "\n",
    "    fatal_keywords = [\n",
    "    'died', 'killed', 'fatal', 'dead', 'mauled to death', 'succumbed',\n",
    "    'did not survive', 'passed away', 'pronounced dead', 'lost his life',\n",
    "    'lost her life', 'slain', 'fatally injured', 'mortally wounded'\n",
    "    ]\n",
    "    return any(keyword in details.lower() for keyword in fatal_keywords)\n",
    "\n",
    "\n",
    "def convert_age(age):\n",
    "    if pd.isna(age) or age == '':  # Handle NaN\n",
    "        return math.nan\n",
    "    if isinstance(age, str):\n",
    "        age = age.strip()  # Remove leading/trailing whitespace\n",
    "        # Handle months\n",
    "        if 'months' in age:\n",
    "            months = int(age.split()[0])\n",
    "            return months / 12\n",
    "            \n",
    "        # Remove non-numeric characters like quotes, and try converting to float\n",
    "        age = ''.join(filter(str.isdigit, age))\n",
    "        if age:\n",
    "            return float(age)\n",
    "    return age # If it's already a number, return it as is\n",
    "\n",
    "\n",
    "def encode_date_sin(day , T):\n",
    "    T = 7  # Total days in a week\n",
    "    sin_day = np.sin(2 * np.pi * day / T)\n",
    "    \n",
    "    return sin_day\n",
    "\n",
    "\n",
    "def encode_date_cos(day , T):\n",
    "    T = 7  # Total days in a week\n",
    "    \n",
    "    cos_day = np.cos(2 * np.pi * day / T)\n",
    "    return cos_day\n",
    "\n",
    "day_to_num = {\n",
    "    \"Monday\": 0,\n",
    "    \"Tuesday\": 1,\n",
    "    \"Wednesday\": 2,\n",
    "    \"Thursday\": 3,\n",
    "    \"Friday\": 4,\n",
    "    \"Saturday\": 5,\n",
    "    \"Sunday\": 6\n",
    "}"
   ]
  },
  {
   "cell_type": "code",
   "execution_count": 90,
   "metadata": {},
   "outputs": [
    {
     "name": "stdout",
     "output_type": "stream",
     "text": [
      "(148, 24)\n"
     ]
    },
    {
     "data": {
      "text/html": [
       "<div>\n",
       "<style scoped>\n",
       "    .dataframe tbody tr th:only-of-type {\n",
       "        vertical-align: middle;\n",
       "    }\n",
       "\n",
       "    .dataframe tbody tr th {\n",
       "        vertical-align: top;\n",
       "    }\n",
       "\n",
       "    .dataframe thead th {\n",
       "        text-align: right;\n",
       "    }\n",
       "</style>\n",
       "<table border=\"1\" class=\"dataframe\">\n",
       "  <thead>\n",
       "    <tr style=\"text-align: right;\">\n",
       "      <th></th>\n",
       "      <th>Date</th>\n",
       "      <th>Location</th>\n",
       "      <th>Details</th>\n",
       "      <th>Bear</th>\n",
       "      <th>Latitude</th>\n",
       "      <th>Longitude</th>\n",
       "      <th>Name</th>\n",
       "      <th>Age</th>\n",
       "      <th>Gender</th>\n",
       "      <th>year</th>\n",
       "      <th>...</th>\n",
       "      <th>dow_sin</th>\n",
       "      <th>dow_cos</th>\n",
       "      <th>month_sin</th>\n",
       "      <th>month_cos</th>\n",
       "      <th>Age_2</th>\n",
       "      <th>Age_3</th>\n",
       "      <th>Latitude_2</th>\n",
       "      <th>Latitude_3</th>\n",
       "      <th>Longitude_2</th>\n",
       "      <th>Longitude_3</th>\n",
       "    </tr>\n",
       "  </thead>\n",
       "  <tbody>\n",
       "    <tr>\n",
       "      <th>0</th>\n",
       "      <td>2018-08-23</td>\n",
       "      <td>Lyon Inlet, Nunavut</td>\n",
       "      <td>Three men from Naujaat, whose boat had broken ...</td>\n",
       "      <td>Polar</td>\n",
       "      <td>66.534160</td>\n",
       "      <td>-83.882170</td>\n",
       "      <td>Darryl Kaunak</td>\n",
       "      <td>33.0</td>\n",
       "      <td>male</td>\n",
       "      <td>2018</td>\n",
       "      <td>...</td>\n",
       "      <td>0.433884</td>\n",
       "      <td>-0.900969</td>\n",
       "      <td>7.818315e-01</td>\n",
       "      <td>0.623490</td>\n",
       "      <td>1089.0</td>\n",
       "      <td>35937.0</td>\n",
       "      <td>4426.794447</td>\n",
       "      <td>294533.050018</td>\n",
       "      <td>7036.218444</td>\n",
       "      <td>-5.902133e+05</td>\n",
       "    </tr>\n",
       "    <tr>\n",
       "      <th>1</th>\n",
       "      <td>2018-07-03</td>\n",
       "      <td>Sentry Island, Nunavut</td>\n",
       "      <td>A polar bear approached a man and his children...</td>\n",
       "      <td>Polar</td>\n",
       "      <td>61.167230</td>\n",
       "      <td>-93.850150</td>\n",
       "      <td>Aaron Gibbons</td>\n",
       "      <td>31.0</td>\n",
       "      <td>male</td>\n",
       "      <td>2018</td>\n",
       "      <td>...</td>\n",
       "      <td>0.781831</td>\n",
       "      <td>0.623490</td>\n",
       "      <td>-2.449294e-16</td>\n",
       "      <td>1.000000</td>\n",
       "      <td>961.0</td>\n",
       "      <td>29791.0</td>\n",
       "      <td>3741.430026</td>\n",
       "      <td>228852.910921</td>\n",
       "      <td>8807.850655</td>\n",
       "      <td>-8.266181e+05</td>\n",
       "    </tr>\n",
       "    <tr>\n",
       "      <th>2</th>\n",
       "      <td>1999-07-09</td>\n",
       "      <td>near Rankin Inlet, Nunavut</td>\n",
       "      <td>Amitnak was mauled after trying to distract a ...</td>\n",
       "      <td>Polar</td>\n",
       "      <td>62.808913</td>\n",
       "      <td>-92.087741</td>\n",
       "      <td>Hattie Amitnak</td>\n",
       "      <td>64.0</td>\n",
       "      <td>female</td>\n",
       "      <td>1999</td>\n",
       "      <td>...</td>\n",
       "      <td>-0.433884</td>\n",
       "      <td>-0.900969</td>\n",
       "      <td>-2.449294e-16</td>\n",
       "      <td>1.000000</td>\n",
       "      <td>4096.0</td>\n",
       "      <td>262144.0</td>\n",
       "      <td>3944.959552</td>\n",
       "      <td>247778.621305</td>\n",
       "      <td>8480.152042</td>\n",
       "      <td>-7.809180e+05</td>\n",
       "    </tr>\n",
       "    <tr>\n",
       "      <th>3</th>\n",
       "      <td>1990-12-08</td>\n",
       "      <td>Point Lay, Alaska</td>\n",
       "      <td>While Stalker was walking with his girlfriend,...</td>\n",
       "      <td>Polar</td>\n",
       "      <td>69.742800</td>\n",
       "      <td>-163.011250</td>\n",
       "      <td>Carl Stalker</td>\n",
       "      <td>28.0</td>\n",
       "      <td>male</td>\n",
       "      <td>1990</td>\n",
       "      <td>...</td>\n",
       "      <td>-0.974928</td>\n",
       "      <td>-0.222521</td>\n",
       "      <td>-9.749279e-01</td>\n",
       "      <td>-0.222521</td>\n",
       "      <td>784.0</td>\n",
       "      <td>21952.0</td>\n",
       "      <td>4864.058152</td>\n",
       "      <td>339233.034872</td>\n",
       "      <td>26572.667627</td>\n",
       "      <td>-4.331644e+06</td>\n",
       "    </tr>\n",
       "    <tr>\n",
       "      <th>4</th>\n",
       "      <td>1983-11-29</td>\n",
       "      <td>Churchill, Manitoba</td>\n",
       "      <td>Mutanen was attacked and dragged on a street i...</td>\n",
       "      <td>Polar</td>\n",
       "      <td>58.767755</td>\n",
       "      <td>-94.163998</td>\n",
       "      <td>Thomas Mutanen</td>\n",
       "      <td>46.0</td>\n",
       "      <td>male</td>\n",
       "      <td>1983</td>\n",
       "      <td>...</td>\n",
       "      <td>0.781831</td>\n",
       "      <td>0.623490</td>\n",
       "      <td>-4.338837e-01</td>\n",
       "      <td>-0.900969</td>\n",
       "      <td>2116.0</td>\n",
       "      <td>97336.0</td>\n",
       "      <td>3453.649028</td>\n",
       "      <td>202963.199918</td>\n",
       "      <td>8866.858519</td>\n",
       "      <td>-8.349388e+05</td>\n",
       "    </tr>\n",
       "  </tbody>\n",
       "</table>\n",
       "<p>5 rows × 24 columns</p>\n",
       "</div>"
      ],
      "text/plain": [
       "        Date                    Location  \\\n",
       "0 2018-08-23       Lyon Inlet, Nunavut     \n",
       "1 2018-07-03      Sentry Island, Nunavut   \n",
       "2 1999-07-09  near Rankin Inlet, Nunavut   \n",
       "3 1990-12-08           Point Lay, Alaska   \n",
       "4 1983-11-29         Churchill, Manitoba   \n",
       "\n",
       "                                             Details   Bear   Latitude  \\\n",
       "0  Three men from Naujaat, whose boat had broken ...  Polar  66.534160   \n",
       "1  A polar bear approached a man and his children...  Polar  61.167230   \n",
       "2  Amitnak was mauled after trying to distract a ...  Polar  62.808913   \n",
       "3  While Stalker was walking with his girlfriend,...  Polar  69.742800   \n",
       "4  Mutanen was attacked and dragged on a street i...  Polar  58.767755   \n",
       "\n",
       "    Longitude            Name   Age   Gender  year  ...   dow_sin   dow_cos  \\\n",
       "0  -83.882170   Darryl Kaunak  33.0     male  2018  ...  0.433884 -0.900969   \n",
       "1  -93.850150   Aaron Gibbons  31.0     male  2018  ...  0.781831  0.623490   \n",
       "2  -92.087741  Hattie Amitnak  64.0   female  1999  ... -0.433884 -0.900969   \n",
       "3 -163.011250    Carl Stalker  28.0     male  1990  ... -0.974928 -0.222521   \n",
       "4  -94.163998  Thomas Mutanen  46.0     male  1983  ...  0.781831  0.623490   \n",
       "\n",
       "      month_sin  month_cos   Age_2     Age_3   Latitude_2     Latitude_3  \\\n",
       "0  7.818315e-01   0.623490  1089.0   35937.0  4426.794447  294533.050018   \n",
       "1 -2.449294e-16   1.000000   961.0   29791.0  3741.430026  228852.910921   \n",
       "2 -2.449294e-16   1.000000  4096.0  262144.0  3944.959552  247778.621305   \n",
       "3 -9.749279e-01  -0.222521   784.0   21952.0  4864.058152  339233.034872   \n",
       "4 -4.338837e-01  -0.900969  2116.0   97336.0  3453.649028  202963.199918   \n",
       "\n",
       "    Longitude_2   Longitude_3  \n",
       "0   7036.218444 -5.902133e+05  \n",
       "1   8807.850655 -8.266181e+05  \n",
       "2   8480.152042 -7.809180e+05  \n",
       "3  26572.667627 -4.331644e+06  \n",
       "4   8866.858519 -8.349388e+05  \n",
       "\n",
       "[5 rows x 24 columns]"
      ]
     },
     "execution_count": 90,
     "metadata": {},
     "output_type": "execute_result"
    }
   ],
   "source": [
    "df = pd.read_csv(\"bear_attacks.csv\" )\n",
    "df['Date'] = pd.to_datetime(df.Date , format = 'mixed' , errors='coerce')\n",
    "df['year'] = pd.Categorical(df.Date.dt.year.astype('Int64') , ordered=True)\n",
    "df['month'] = pd.Categorical(df.Date.dt.month.astype('Int64') ,categories = list(range(1 , 13)) )\n",
    "df['day_of_month'] = pd.Categorical(df.Date.dt.day.astype('Int64') ,categories = list(range(1 , 32)) )\n",
    "df['day_of_week'] = pd.Categorical(df.Date.dt.day_name() , categories = dow_categories)\n",
    "df['Fatal'] = df['Details'].apply(is_fatal).astype(int)\n",
    "df['day_of_week'] = pd.Categorical(df['day_of_week'], categories=dow_categories, ordered=True)\n",
    "df['Gender'] = pd.Categorical(df['Gender'])\n",
    "df['Age'] = df['Age'].apply(convert_age)\n",
    "df.loc[df['Age'] == \"\" , 'Age'] = np.nan\n",
    "\n",
    "df = df.dropna()\n",
    "df['day_of_week'] = df['day_of_week'].map(day_to_num)\n",
    "df['dow_sin'] = df['day_of_week'].apply(encode_date_sin , T = 7)\n",
    "df['dow_cos'] = df['day_of_week'].apply(encode_date_cos , T = 7)\n",
    "\n",
    "\n",
    "df['month_sin'] = df['month'].apply(encode_date_sin, T = 12)\n",
    "df['month_cos'] = df['month'].apply(encode_date_cos, T = 12)\n",
    "\n",
    "df['Age_2'] = df['Age'] **2\n",
    "df['Age_3'] = df['Age'] **3\n",
    "\n",
    "df['Latitude_2'] = df['Latitude'] **2\n",
    "df['Latitude_3'] = df['Latitude'] **3\n",
    "\n",
    "df['Longitude_2'] = df['Longitude'] **2\n",
    "df['Longitude_3'] = df['Longitude'] **3\n",
    "print(df.shape)\n",
    "df.head()"
   ]
  },
  {
   "cell_type": "code",
   "execution_count": 91,
   "metadata": {},
   "outputs": [
    {
     "name": "stdout",
     "output_type": "stream",
     "text": [
      "(118, 12)\n",
      "(30, 12)\n"
     ]
    }
   ],
   "source": [
    "random_state = 42\n",
    "df2 = df[['Fatal', 'dow_sin', 'dow_cos', 'month_sin', 'month_cos', 'Age' ,'Age_2',\n",
    "       'Age_3', 'Latitude_2', 'Latitude_3', 'Longitude_2', 'Longitude_3',\n",
    "          'Bear']]\n",
    "\n",
    "\n",
    "df2 = df2.dropna()\n",
    "X = df2[[ 'dow_sin', 'dow_cos', 'month_sin', 'month_cos', 'Age' ,'Age_2',\n",
    "       'Age_3', 'Latitude_2', 'Latitude_3', 'Longitude_2', 'Longitude_3',\n",
    "          'Bear']]\n",
    "y = df2['Fatal']\n",
    "\n",
    "X_train, X_test, y_train, y_test = train_test_split(X, y, test_size=0.2, random_state=42 , stratify=y )\n",
    "print(X_train.shape)\n",
    "print(X_test.shape)"
   ]
  },
  {
   "cell_type": "code",
   "execution_count": 92,
   "metadata": {},
   "outputs": [],
   "source": [
    "categorical_features = ['Bear']\n",
    "numerical_features = ['Age' ,'Age_2', 'Age_3', 'Latitude_2', 'Latitude_3', 'Longitude_2', 'Longitude_3']\n",
    "no_transform_features = ['dow_sin', 'dow_cos', 'month_sin', 'month_cos', ]\n",
    "\n",
    "\n",
    "# Step 4: Define preprocessors\n",
    "categorical_preprocessor = OneHotEncoder(handle_unknown='ignore')\n",
    "numerical_preprocessor = StandardScaler()\n",
    "\n",
    "# Combine preprocessors in a ColumnTransformer\n",
    "preprocessor = ColumnTransformer(\n",
    "    transformers=[\n",
    "        ('num', numerical_preprocessor, numerical_features),\n",
    "        ('cat', categorical_preprocessor, categorical_features),\n",
    "        ('passthrough', 'passthrough', no_transform_features) \n",
    "    ]\n",
    ")\n"
   ]
  },
  {
   "cell_type": "code",
   "execution_count": 93,
   "metadata": {},
   "outputs": [
    {
     "name": "stdout",
     "output_type": "stream",
     "text": [
      "Fitting 5 folds for each of 48 candidates, totalling 240 fits\n",
      "Best Parameters: {'classifier__metric': 'euclidean', 'classifier__n_neighbors': 3, 'classifier__weights': 'uniform', 'feature_selection__k': 1}\n",
      "AUC score: 0.6206349206349207\n"
     ]
    },
    {
     "data": {
      "image/png": "[encoded data removed]",
      "text/plain": [
       "<Figure size 640x480 with 2 Axes>"
      ]
     },
     "metadata": {},
     "output_type": "display_data"
    }
   ],
   "source": [
    "# Step 5: Create a pipeline with a classifier\n",
    "knn_pipeline = Pipeline(steps=[\n",
    "    ('preprocessor', preprocessor),\n",
    "    ('feature_selection', SelectKBest(score_func=f_classif)),\n",
    "    ('classifier', KNeighborsClassifier())\n",
    "])\n",
    "\n",
    "# Step 6: Define a parameter grid for grid search\n",
    "param_grid = {\n",
    "    'feature_selection__k': [1, 2, 3, 4],  # Number of features to select\n",
    "    'classifier__n_neighbors': [3, 5, 7],  # Number of neighbors in KNN\n",
    "    'classifier__weights': ['uniform', 'distance'],  # Weighting scheme\n",
    "    'classifier__metric': ['euclidean', 'manhattan']  # Distance metric\n",
    "}\n",
    "\n",
    "# Step 7: Perform grid search\n",
    "grid_search = GridSearchCV(knn_pipeline, param_grid, cv=5, scoring='roc_auc', verbose=1, n_jobs=-1)\n",
    "grid_search.fit(X_train, y_train)\n",
    "\n",
    "# Step 8: Evaluate the best model\n",
    "knn_best_model = grid_search.best_estimator_\n",
    "y_pred = knn_best_model.predict(X_train)\n",
    "\n",
    "# Output results\n",
    "print(\"Best Parameters:\", grid_search.best_params_)\n",
    "print(\"AUC score:\", roc_auc_score(y_train, y_pred))\n",
    "ConfusionMatrixDisplay.from_predictions(y_train, y_pred , normalize='true' )\n",
    "plt.show()"
   ]
  },
  {
   "cell_type": "code",
   "execution_count": 94,
   "metadata": {},
   "outputs": [
    {
     "name": "stdout",
     "output_type": "stream",
     "text": [
      "Fitting 5 folds for each of 3960 candidates, totalling 19800 fits\n",
      "Best Parameters: {'classifier__C': 0.08600000000000001, 'classifier__penalty': 'l2', 'classifier__solver': 'liblinear', 'feature_selection__k': 4}\n",
      "Logit auc: 0.50\n"
     ]
    },
    {
     "data": {
      "image/png": "[encoded data removed]",
      "text/plain": [
       "<Figure size 640x480 with 2 Axes>"
      ]
     },
     "metadata": {},
     "output_type": "display_data"
    }
   ],
   "source": [
    "logit_pipeline = Pipeline(steps=[\n",
    "    ('preprocessor', preprocessor),\n",
    "    ('feature_selection', SelectKBest(score_func=f_classif, k= 10)),\n",
    "    ('classifier', LogisticRegression(max_iter=1000))\n",
    "])\n",
    "\n",
    "\n",
    "param_grid = [\n",
    "    {\n",
    "        'feature_selection__k': [1, 2, 3, 4],  # Number of features to select\n",
    "        'classifier__penalty': ['l1'], \n",
    "        'classifier__solver': ['liblinear', 'saga'], \n",
    "        'classifier__C': np.arange(0.001, 0.1, 0.001)\n",
    "    },\n",
    "    {\n",
    "        'feature_selection__k': [1, 2, 3, 4],  # Number of features to select\n",
    "        'classifier__penalty': ['l2'], \n",
    "        'classifier__solver': ['lbfgs', 'liblinear', 'newton-cg', 'sag', 'saga'], \n",
    "        'classifier__C': np.arange(0.001, 0.1, 0.001)\n",
    "    },\n",
    "    {\n",
    "        'feature_selection__k': [1, 2, 3, 4],  # Number of features to select\n",
    "        'classifier__penalty': ['elasticnet'], \n",
    "        'classifier__solver': ['saga'], \n",
    "        'classifier__C': np.arange(0.001, 0.1, 0.001), \n",
    "        'classifier__l1_ratio': [0.2, 0.5, 0.8]\n",
    "    }\n",
    "]\n",
    "\n",
    "\n",
    "# Step 5: Perform grid search\n",
    "grid_search = GridSearchCV(logit_pipeline, param_grid=param_grid, cv=5, scoring='roc_auc', n_jobs=-1, verbose=1)\n",
    "grid_search.fit(X_train, np.ravel(y_train))\n",
    "\n",
    "\n",
    "# Step 6: Evaluate the best model\n",
    "logit_best_model = grid_search.best_estimator_\n",
    "y_pred_logit = logit_best_model.predict(X_train)\n",
    "\n",
    "# Step 7: Output results\n",
    "print(\"Best Parameters:\", grid_search.best_params_)\n",
    "print(f\"Logit auc: {roc_auc_score(y_train  , y_pred_logit):.2f}\")\n",
    "ConfusionMatrixDisplay.from_predictions(y_train, y_pred_logit ,   normalize='true' )\n",
    "plt.show()"
   ]
  },
  {
   "cell_type": "code",
   "execution_count": 95,
   "metadata": {},
   "outputs": [
    {
     "name": "stdout",
     "output_type": "stream",
     "text": [
      "Fitting 5 folds for each of 540 candidates, totalling 2700 fits\n",
      "Best Parameters: {'classifier__ccp_alpha': 0.0, 'classifier__criterion': 'entropy', 'classifier__max_depth': 7, 'classifier__min_samples_leaf': 1, 'classifier__min_samples_split': 5}\n",
      "AUC score: 0.8293650793650793\n"
     ]
    },
    {
     "data": {
      "image/png": "[encoded data removed]",
      "text/plain": [
       "<Figure size 640x480 with 2 Axes>"
      ]
     },
     "metadata": {},
     "output_type": "display_data"
    }
   ],
   "source": [
    "dt_pipeline = Pipeline(steps=[\n",
    "    ('preprocessor', preprocessor),\n",
    "    ('classifier', DecisionTreeClassifier(random_state=random_state))\n",
    "])\n",
    "\n",
    "# Step 6: Define a parameter grid for grid search\n",
    "param_grid = {\n",
    "    'classifier__criterion': ['gini', 'entropy'],       \n",
    "    'classifier__max_depth': [1,2, 3, 4,5,6,7,8,9 ,10],        \n",
    "    'classifier__min_samples_split': [2, 5, 10],       \n",
    "    'classifier__min_samples_leaf': [1, 2, 5],         \n",
    "    'classifier__ccp_alpha': [0.0, 0.01, 0.1]          \n",
    "}\n",
    "\n",
    "# Step 7: Perform grid search\n",
    "grid_search = GridSearchCV(dt_pipeline, param_grid, cv=5, scoring='roc_auc', verbose=1, n_jobs=-1)\n",
    "grid_search.fit(X_train, y_train)\n",
    "\n",
    "# Step 8: Evaluate the best model\n",
    "dt_best_model = grid_search.best_estimator_\n",
    "y_pred = dt_best_model.predict(X_train)\n",
    "\n",
    "# Output results\n",
    "print(\"Best Parameters:\", grid_search.best_params_)\n",
    "print(\"AUC score:\", roc_auc_score(y_train, y_pred))\n",
    "ConfusionMatrixDisplay.from_predictions(y_train, y_pred , normalize='true' )\n",
    "plt.show()"
   ]
  },
  {
   "cell_type": "code",
   "execution_count": 96,
   "metadata": {},
   "outputs": [
    {
     "name": "stdout",
     "output_type": "stream",
     "text": [
      "Fitting 5 folds for each of 1920 candidates, totalling 9600 fits\n",
      "Best Parameters: {'classifier__C': 1, 'classifier__coef0': 0.1, 'classifier__degree': 2, 'classifier__gamma': 'scale', 'classifier__kernel': 'sigmoid', 'feature_selection__k': 10}\n",
      "Test Accuracy: 0.52\n"
     ]
    },
    {
     "data": {
      "image/png": "[encoded data removed]",
      "text/plain": [
       "<Figure size 640x480 with 2 Axes>"
      ]
     },
     "metadata": {},
     "output_type": "display_data"
    }
   ],
   "source": [
    "svc_pipeline = Pipeline(steps=[\n",
    "    ('preprocessor', preprocessor),\n",
    "    ('feature_selection', SelectKBest(score_func=f_classif)),\n",
    "    ('classifier', SVC(random_state=random_state))\n",
    "])\n",
    "\n",
    "param_grid = {\n",
    "    'feature_selection__k': [1, 2, 3, 5, 10],  # Number of features to select\n",
    "    'classifier__C': [0.1, 1, 10, 100],  # Regularization strength\n",
    "    'classifier__kernel': ['linear', 'rbf', 'poly', 'sigmoid'],  # Kernel types\n",
    "    'classifier__gamma': ['scale', 'auto'],  # Kernel coefficient\n",
    "    'classifier__degree': [2, 3, 4],  # Degree of the polynomial kernel (only for 'poly' kernel)\n",
    "    'classifier__coef0': [0.0, 0.1, 0.5, 1.0],  # Independent term in kernel function (poly/sigmoid)\n",
    "}\n",
    "\n",
    "# Step 5: Perform grid search\n",
    "grid_search = GridSearchCV(svc_pipeline, param_grid=param_grid, cv=5, scoring='roc_auc', n_jobs=-1, verbose=1)\n",
    "grid_search.fit(X_train, y_train)\n",
    "\n",
    "# Step 6: Evaluate the best model\n",
    "svc_best_model = grid_search.best_estimator_\n",
    "y_pred_svc = svc_best_model.predict(X_train)\n",
    "\n",
    "# Step 7: Output results\n",
    "print(\"Best Parameters:\", grid_search.best_params_)\n",
    "print(f\"Test Accuracy: {roc_auc_score(y_train, y_pred_svc):.2f}\")\n",
    "ConfusionMatrixDisplay.from_predictions(y_train, y_pred_svc , normalize='true' )\n",
    "plt.show()"
   ]
  },
  {
   "cell_type": "markdown",
   "metadata": {},
   "source": [
    "# Test Results:"
   ]
  },
  {
   "cell_type": "code",
   "execution_count": 97,
   "metadata": {},
   "outputs": [
    {
     "name": "stdout",
     "output_type": "stream",
     "text": [
      "Confusion Matrix for KNN classifier\n",
      "Accuracy: 0.67\n"
     ]
    },
    {
     "data": {
      "image/png": "[encoded data removed]",
      "text/plain": [
       "<Figure size 640x480 with 2 Axes>"
      ]
     },
     "metadata": {},
     "output_type": "display_data"
    }
   ],
   "source": [
    "knn_pred = knn_best_model.predict(X_test)\n",
    "acc = accuracy_score(y_test, knn_pred )\n",
    "print(\"Confusion Matrix for KNN classifier\")\n",
    "print(f\"Accuracy: {acc:.2f}\")\n",
    "ConfusionMatrixDisplay.from_predictions(y_test, knn_pred , normalize='true' )\n",
    "plt.show()"
   ]
  },
  {
   "cell_type": "code",
   "execution_count": 98,
   "metadata": {},
   "outputs": [
    {
     "name": "stdout",
     "output_type": "stream",
     "text": [
      "Confusion Matrix for Decision Tree classifier\n",
      "Accuracy: 0.53\n"
     ]
    },
    {
     "data": {
      "image/png": "[encoded data removed]",
      "text/plain": [
       "<Figure size 640x480 with 2 Axes>"
      ]
     },
     "metadata": {},
     "output_type": "display_data"
    }
   ],
   "source": [
    "dt_pred = dt_best_model.predict(X_test)\n",
    "acc = accuracy_score(y_test, dt_pred )\n",
    "print(\"Confusion Matrix for Decision Tree classifier\")\n",
    "print(f\"Accuracy: {acc:.2f}\")\n",
    "ConfusionMatrixDisplay.from_predictions(y_test, dt_pred , normalize='true' )\n",
    "plt.show()"
   ]
  },
  {
   "cell_type": "markdown",
   "metadata": {},
   "source": [
    "# Therefore, the best model is:\n",
    "\n",
    "## The K Nearest Neighbors with:\n",
    "### k=3\n",
    "### distance metric: Eucledian distance\n",
    "### "
   ]
  },
  {
   "cell_type": "code",
   "execution_count": 99,
   "metadata": {},
   "outputs": [
    {
     "data": {
      "text/plain": [
       "{'memory': None,\n",
       " 'steps': [('preprocessor',\n",
       "   ColumnTransformer(transformers=[('num', StandardScaler(),\n",
       "                                    ['Age', 'Age_2', 'Age_3', 'Latitude_2',\n",
       "                                     'Latitude_3', 'Longitude_2', 'Longitude_3']),\n",
       "                                   ('cat', OneHotEncoder(handle_unknown='ignore'),\n",
       "                                    ['Bear']),\n",
       "                                   ('passthrough', 'passthrough',\n",
       "                                    ['dow_sin', 'dow_cos', 'month_sin',\n",
       "                                     'month_cos'])])),\n",
       "  ('feature_selection', SelectKBest(k=1)),\n",
       "  ('classifier', KNeighborsClassifier(metric='euclidean', n_neighbors=3))],\n",
       " 'verbose': False,\n",
       " 'preprocessor': ColumnTransformer(transformers=[('num', StandardScaler(),\n",
       "                                  ['Age', 'Age_2', 'Age_3', 'Latitude_2',\n",
       "                                   'Latitude_3', 'Longitude_2', 'Longitude_3']),\n",
       "                                 ('cat', OneHotEncoder(handle_unknown='ignore'),\n",
       "                                  ['Bear']),\n",
       "                                 ('passthrough', 'passthrough',\n",
       "                                  ['dow_sin', 'dow_cos', 'month_sin',\n",
       "                                   'month_cos'])]),\n",
       " 'feature_selection': SelectKBest(k=1),\n",
       " 'classifier': KNeighborsClassifier(metric='euclidean', n_neighbors=3),\n",
       " 'preprocessor__force_int_remainder_cols': True,\n",
       " 'preprocessor__n_jobs': None,\n",
       " 'preprocessor__remainder': 'drop',\n",
       " 'preprocessor__sparse_threshold': 0.3,\n",
       " 'preprocessor__transformer_weights': None,\n",
       " 'preprocessor__transformers': [('num',\n",
       "   StandardScaler(),\n",
       "   ['Age',\n",
       "    'Age_2',\n",
       "    'Age_3',\n",
       "    'Latitude_2',\n",
       "    'Latitude_3',\n",
       "    'Longitude_2',\n",
       "    'Longitude_3']),\n",
       "  ('cat', OneHotEncoder(handle_unknown='ignore'), ['Bear']),\n",
       "  ('passthrough',\n",
       "   'passthrough',\n",
       "   ['dow_sin', 'dow_cos', 'month_sin', 'month_cos'])],\n",
       " 'preprocessor__verbose': False,\n",
       " 'preprocessor__verbose_feature_names_out': True,\n",
       " 'preprocessor__num': StandardScaler(),\n",
       " 'preprocessor__cat': OneHotEncoder(handle_unknown='ignore'),\n",
       " 'preprocessor__passthrough': 'passthrough',\n",
       " 'preprocessor__num__copy': True,\n",
       " 'preprocessor__num__with_mean': True,\n",
       " 'preprocessor__num__with_std': True,\n",
       " 'preprocessor__cat__categories': 'auto',\n",
       " 'preprocessor__cat__drop': None,\n",
       " 'preprocessor__cat__dtype': numpy.float64,\n",
       " 'preprocessor__cat__feature_name_combiner': 'concat',\n",
       " 'preprocessor__cat__handle_unknown': 'ignore',\n",
       " 'preprocessor__cat__max_categories': None,\n",
       " 'preprocessor__cat__min_frequency': None,\n",
       " 'preprocessor__cat__sparse_output': True,\n",
       " 'feature_selection__k': 1,\n",
       " 'feature_selection__score_func': <function sklearn.feature_selection._univariate_selection.f_classif(X, y)>,\n",
       " 'classifier__algorithm': 'auto',\n",
       " 'classifier__leaf_size': 30,\n",
       " 'classifier__metric': 'euclidean',\n",
       " 'classifier__metric_params': None,\n",
       " 'classifier__n_jobs': None,\n",
       " 'classifier__n_neighbors': 3,\n",
       " 'classifier__p': 2,\n",
       " 'classifier__weights': 'uniform'}"
      ]
     },
     "execution_count": 99,
     "metadata": {},
     "output_type": "execute_result"
    }
   ],
   "source": [
    "knn_best_model.get_params()"
   ]
  },
  {
   "cell_type": "code",
   "execution_count": 110,
   "metadata": {},
   "outputs": [
    {
     "data": {
      "text/plain": [
       "{'k': 1,\n",
       " 'score_func': <function sklearn.feature_selection._univariate_selection.f_classif(X, y)>}"
      ]
     },
     "execution_count": 110,
     "metadata": {},
     "output_type": "execute_result"
    }
   ],
   "source": [
    "knn_best_model.steps[1][1].get_params()"
   ]
  }
 ],
 "metadata": {
  "kernelspec": {
   "display_name": "sandbox",
   "language": "python",
   "name": "python3"
  },
  "language_info": {
   "codemirror_mode": {
    "name": "ipython",
    "version": 3
   },
   "file_extension": ".py",
   "mimetype": "text/x-python",
   "name": "python",
   "nbconvert_exporter": "python",
   "pygments_lexer": "ipython3",
   "version": "3.10.14"
  }
 },
 "nbformat": 4,
 "nbformat_minor": 2
}
