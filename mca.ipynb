{
 "cells": [
  {
   "cell_type": "code",
   "execution_count": 96,
   "metadata": {},
   "outputs": [],
   "source": [
    "import datetime as dt\n",
    "import math\n",
    "import numpy as np\n",
    "import pandas as pd\n",
    "import matplotlib.pyplot as plt\n",
    "import seaborn as sns\n",
    "from sklearn.linear_model import LogisticRegression\n",
    "from sklearn.preprocessing import StandardScaler\n",
    "from sklearn.model_selection import train_test_split , StratifiedKFold\n",
    "from sklearn.decomposition import PCA\n",
    "%matplotlib inline"
   ]
  },
  {
   "cell_type": "code",
   "execution_count": 97,
   "metadata": {},
   "outputs": [
    {
     "data": {
      "text/html": [
       "<div>\n",
       "<style scoped>\n",
       "    .dataframe tbody tr th:only-of-type {\n",
       "        vertical-align: middle;\n",
       "    }\n",
       "\n",
       "    .dataframe tbody tr th {\n",
       "        vertical-align: top;\n",
       "    }\n",
       "\n",
       "    .dataframe thead th {\n",
       "        text-align: right;\n",
       "    }\n",
       "</style>\n",
       "<table border=\"1\" class=\"dataframe\">\n",
       "  <thead>\n",
       "    <tr style=\"text-align: right;\">\n",
       "      <th></th>\n",
       "      <th>Date</th>\n",
       "      <th>Location</th>\n",
       "      <th>Details</th>\n",
       "      <th>Bear</th>\n",
       "      <th>Latitude</th>\n",
       "      <th>Longitude</th>\n",
       "      <th>Name</th>\n",
       "      <th>Age</th>\n",
       "      <th>Gender</th>\n",
       "      <th>month</th>\n",
       "      <th>Fatal</th>\n",
       "      <th>State</th>\n",
       "    </tr>\n",
       "  </thead>\n",
       "  <tbody>\n",
       "    <tr>\n",
       "      <th>0</th>\n",
       "      <td>2018-08-23</td>\n",
       "      <td>Lyon Inlet, Nunavut</td>\n",
       "      <td>Three men from Naujaat, whose boat had broken ...</td>\n",
       "      <td>Polar</td>\n",
       "      <td>66.534160</td>\n",
       "      <td>-83.882170</td>\n",
       "      <td>Darryl Kaunak</td>\n",
       "      <td>33.0</td>\n",
       "      <td>male</td>\n",
       "      <td>8</td>\n",
       "      <td>1</td>\n",
       "      <td>Unknown</td>\n",
       "    </tr>\n",
       "    <tr>\n",
       "      <th>1</th>\n",
       "      <td>2018-07-03</td>\n",
       "      <td>Sentry Island, Nunavut</td>\n",
       "      <td>A polar bear approached a man and his children...</td>\n",
       "      <td>Polar</td>\n",
       "      <td>61.167230</td>\n",
       "      <td>-93.850150</td>\n",
       "      <td>Aaron Gibbons</td>\n",
       "      <td>31.0</td>\n",
       "      <td>male</td>\n",
       "      <td>7</td>\n",
       "      <td>1</td>\n",
       "      <td>Unknown</td>\n",
       "    </tr>\n",
       "    <tr>\n",
       "      <th>2</th>\n",
       "      <td>1999-07-09</td>\n",
       "      <td>near Rankin Inlet, Nunavut</td>\n",
       "      <td>Amitnak was mauled after trying to distract a ...</td>\n",
       "      <td>Polar</td>\n",
       "      <td>62.808913</td>\n",
       "      <td>-92.087741</td>\n",
       "      <td>Hattie Amitnak</td>\n",
       "      <td>64.0</td>\n",
       "      <td>female</td>\n",
       "      <td>7</td>\n",
       "      <td>0</td>\n",
       "      <td>Unknown</td>\n",
       "    </tr>\n",
       "    <tr>\n",
       "      <th>3</th>\n",
       "      <td>1990-12-08</td>\n",
       "      <td>Point Lay, Alaska</td>\n",
       "      <td>While Stalker was walking with his girlfriend,...</td>\n",
       "      <td>Polar</td>\n",
       "      <td>69.742800</td>\n",
       "      <td>-163.011250</td>\n",
       "      <td>Carl Stalker</td>\n",
       "      <td>28.0</td>\n",
       "      <td>male</td>\n",
       "      <td>12</td>\n",
       "      <td>1</td>\n",
       "      <td>Alaska</td>\n",
       "    </tr>\n",
       "    <tr>\n",
       "      <th>4</th>\n",
       "      <td>1983-11-29</td>\n",
       "      <td>Churchill, Manitoba</td>\n",
       "      <td>Mutanen was attacked and dragged on a street i...</td>\n",
       "      <td>Polar</td>\n",
       "      <td>58.767755</td>\n",
       "      <td>-94.163998</td>\n",
       "      <td>Thomas Mutanen</td>\n",
       "      <td>46.0</td>\n",
       "      <td>male</td>\n",
       "      <td>11</td>\n",
       "      <td>0</td>\n",
       "      <td>Unknown</td>\n",
       "    </tr>\n",
       "  </tbody>\n",
       "</table>\n",
       "</div>"
      ],
      "text/plain": [
       "        Date                    Location  \\\n",
       "0 2018-08-23       Lyon Inlet, Nunavut     \n",
       "1 2018-07-03      Sentry Island, Nunavut   \n",
       "2 1999-07-09  near Rankin Inlet, Nunavut   \n",
       "3 1990-12-08           Point Lay, Alaska   \n",
       "4 1983-11-29         Churchill, Manitoba   \n",
       "\n",
       "                                             Details   Bear   Latitude  \\\n",
       "0  Three men from Naujaat, whose boat had broken ...  Polar  66.534160   \n",
       "1  A polar bear approached a man and his children...  Polar  61.167230   \n",
       "2  Amitnak was mauled after trying to distract a ...  Polar  62.808913   \n",
       "3  While Stalker was walking with his girlfriend,...  Polar  69.742800   \n",
       "4  Mutanen was attacked and dragged on a street i...  Polar  58.767755   \n",
       "\n",
       "    Longitude            Name   Age   Gender month  Fatal    State  \n",
       "0  -83.882170   Darryl Kaunak  33.0     male     8      1  Unknown  \n",
       "1  -93.850150   Aaron Gibbons  31.0     male     7      1  Unknown  \n",
       "2  -92.087741  Hattie Amitnak  64.0   female     7      0  Unknown  \n",
       "3 -163.011250    Carl Stalker  28.0     male    12      1   Alaska  \n",
       "4  -94.163998  Thomas Mutanen  46.0     male    11      0  Unknown  "
      ]
     },
     "execution_count": 97,
     "metadata": {},
     "output_type": "execute_result"
    }
   ],
   "source": [
    "\n",
    "\n",
    "df = pd.read_csv(\"bear_attacks.csv\" )\n",
    "\n",
    "\n",
    "\n",
    "df.Date = pd.to_datetime(df.Date , format = 'mixed' , errors='coerce')\n",
    "df['month'] = pd.Categorical(df.Date.dt.month.astype('Int64') ,categories = list(range(1 , 13)) )\n",
    "df['Gender'] = pd.Categorical(df['Gender'])\n",
    "\n",
    "\n",
    "def is_fatal(details):\n",
    "\n",
    "    fatal_keywords = [\n",
    "    'died', 'killed', 'fatal', 'dead', 'mauled to death', 'succumbed',\n",
    "    'did not survive', 'passed away', 'pronounced dead', 'lost his life',\n",
    "    'lost her life', 'slain', 'fatally injured', 'mortally wounded'\n",
    "    ]\n",
    "    return any(keyword in details.lower() for keyword in fatal_keywords)\n",
    "\n",
    "\n",
    "df['Fatal'] = df['Details'].apply(is_fatal).astype(int)\n",
    "\n",
    "states = [\n",
    "    'Alabama', 'AL', 'Alaska', 'AK', 'Arizona', 'AZ', 'Arkansas', 'AR', 'California', 'CA', 'Colorado', 'CO',\n",
    "    'Connecticut', 'CT', 'Delaware', 'DE', 'Florida', 'FL', 'Georgia', 'GA', 'Hawaii', 'HI', 'Idaho', 'ID', \n",
    "    'Illinois', 'IL', 'Indiana', 'IN', 'Iowa', 'IA', 'Kansas', 'KS', 'Kentucky', 'KY', 'Louisiana', 'LA', \n",
    "    'Maine', 'ME', 'Maryland', 'MD', 'Massachusetts', 'MA', 'Michigan', 'MI', 'Minnesota', 'MN', 'Mississippi', \n",
    "    'MS', 'Missouri', 'MO', 'Montana', 'MT', 'Nebraska', 'NE', 'Nevada', 'NV', 'New Hampshire', 'NH', 'New Jersey', \n",
    "    'NJ', 'New Mexico', 'NM', 'New York', 'NY', 'North Carolina', 'NC', 'North Dakota', 'ND', 'Ohio', 'OH', \n",
    "    'Oklahoma', 'OK', 'Oregon', 'OR', 'Pennsylvania', 'PA', 'Rhode Island', 'RI', 'South Carolina', 'SC', \n",
    "    'South Dakota', 'SD', 'Tennessee', 'TN', 'Texas', 'TX', 'Utah', 'UT', 'Vermont', 'VT', 'Virginia', 'VA', \n",
    "    'Washington', 'WA', 'West Virginia', 'WV', 'Wisconsin', 'WI', 'Wyoming', 'WY'\n",
    "]\n",
    "\n",
    "\n",
    "\n",
    "def extract_state_from_split(location):\n",
    "    \n",
    "    location_parts = [part.strip() for part in location.split(',')]\n",
    "    \n",
    "    \n",
    "    for part in location_parts:\n",
    "        if part in states:\n",
    "            return part\n",
    "    return None\n",
    "\n",
    "\n",
    "df['State'] = df['Location'].apply(extract_state_from_split)\n",
    "df.loc[df['State'].isna() , \"State\"] = \"Unknown\"\n",
    "\n",
    "def convert_age(age):\n",
    "    if pd.isna(age) or age == '':  # Handle NaN\n",
    "        return math.nan\n",
    "    if isinstance(age, str):\n",
    "        age = age.strip()  # Remove leading/trailing whitespace\n",
    "        # Handle months\n",
    "        if 'months' in age:\n",
    "            months = int(age.split()[0])\n",
    "            return months / 12\n",
    "            \n",
    "        # Remove non-numeric characters like quotes, and try converting to float\n",
    "        age = ''.join(filter(str.isdigit, age))\n",
    "        if age:\n",
    "            return float(age)\n",
    "    return age # If it's already a number, return it as is\n",
    "\n",
    "# Reapply the function to clean and convert the 'Age' column\n",
    "df['Age'] = df['Age'].apply(convert_age)\n",
    "\n",
    "# Checking the unique values in the Age column to ensure the conversion was successful\n",
    "df.loc[df['Age'] == \"\" , 'Age'] = np.nan\n",
    "df.head()"
   ]
  },
  {
   "cell_type": "code",
   "execution_count": 98,
   "metadata": {},
   "outputs": [
    {
     "name": "stdout",
     "output_type": "stream",
     "text": [
      "X dimensions: (118, 3)\n",
      "[0.55822748 0.38469369 0.05201324]\n"
     ]
    }
   ],
   "source": [
    "data = df[['Age' , 'Latitude' , 'Longitude' , 'month' ,'Fatal']].dropna()\n",
    "\n",
    "X = data[[ 'Longitude' , 'Latitude' , 'Age' , 'month']]\n",
    "y = data['Fatal']\n",
    "X_train , X_test , y_train , y_test = train_test_split(X , y, train_size=0.80  , random_state= 42 )\n",
    "\n",
    "\n",
    "\n",
    "pca = PCA(n_components = 'mle')\n",
    "pca.fit(X_train)\n",
    "X_train = pd.DataFrame(pca.transform(X_train) , columns=['PC1' , \"PC2\" , \"PC3\"])\n",
    "print(f\"X dimensions: {X_train.shape}\")\n",
    "print(pca.explained_variance_ratio_)"
   ]
  },
  {
   "cell_type": "code",
   "execution_count": 99,
   "metadata": {},
   "outputs": [
    {
     "data": {
      "text/html": [
       "<div>\n",
       "<style scoped>\n",
       "    .dataframe tbody tr th:only-of-type {\n",
       "        vertical-align: middle;\n",
       "    }\n",
       "\n",
       "    .dataframe tbody tr th {\n",
       "        vertical-align: top;\n",
       "    }\n",
       "\n",
       "    .dataframe thead th {\n",
       "        text-align: right;\n",
       "    }\n",
       "</style>\n",
       "<table border=\"1\" class=\"dataframe\">\n",
       "  <thead>\n",
       "    <tr style=\"text-align: right;\">\n",
       "      <th></th>\n",
       "      <th>PC1</th>\n",
       "      <th>PC2</th>\n",
       "      <th>PC3</th>\n",
       "    </tr>\n",
       "  </thead>\n",
       "  <tbody>\n",
       "    <tr>\n",
       "      <th>0</th>\n",
       "      <td>3.182168</td>\n",
       "      <td>7.151570</td>\n",
       "      <td>-5.566002</td>\n",
       "    </tr>\n",
       "    <tr>\n",
       "      <th>1</th>\n",
       "      <td>-6.837474</td>\n",
       "      <td>2.432838</td>\n",
       "      <td>6.318883</td>\n",
       "    </tr>\n",
       "    <tr>\n",
       "      <th>2</th>\n",
       "      <td>9.528500</td>\n",
       "      <td>-13.932669</td>\n",
       "      <td>-6.256434</td>\n",
       "    </tr>\n",
       "    <tr>\n",
       "      <th>3</th>\n",
       "      <td>-4.500116</td>\n",
       "      <td>55.341068</td>\n",
       "      <td>-11.259935</td>\n",
       "    </tr>\n",
       "    <tr>\n",
       "      <th>4</th>\n",
       "      <td>15.356174</td>\n",
       "      <td>11.427827</td>\n",
       "      <td>11.772081</td>\n",
       "    </tr>\n",
       "  </tbody>\n",
       "</table>\n",
       "</div>"
      ],
      "text/plain": [
       "         PC1        PC2        PC3\n",
       "0   3.182168   7.151570  -5.566002\n",
       "1  -6.837474   2.432838   6.318883\n",
       "2   9.528500 -13.932669  -6.256434\n",
       "3  -4.500116  55.341068 -11.259935\n",
       "4  15.356174  11.427827  11.772081"
      ]
     },
     "execution_count": 99,
     "metadata": {},
     "output_type": "execute_result"
    }
   ],
   "source": [
    "X_train.head()"
   ]
  },
  {
   "cell_type": "code",
   "execution_count": 100,
   "metadata": {},
   "outputs": [
    {
     "data": {
      "application/vnd.plotly.v1+json": {
       "config": {
        "plotlyServerURL": "https://plot.ly"
       },
       "data": [
        {
         "marker": {
          "color": [
           1,
           1,
           0,
           1,
           0,
           1,
           1,
           1,
           1,
           null,
           1,
           null,
           null,
           1,
           1,
           1,
           1,
           0,
           null,
           null,
           1,
           1,
           null,
           1,
           0,
           0,
           null,
           1,
           0,
           null,
           null,
           null,
           1,
           1,
           1,
           1,
           null,
           0,
           0,
           0,
           1,
           1,
           0,
           1,
           0,
           1,
           1,
           1,
           1,
           1,
           1,
           null,
           1,
           1,
           1,
           null,
           0,
           1,
           0,
           0,
           1,
           1,
           1,
           1,
           null,
           1,
           null,
           null,
           null,
           1,
           null,
           0,
           1,
           1,
           1,
           1,
           0,
           null,
           1,
           1,
           1,
           1,
           null,
           null,
           0,
           1,
           1,
           1,
           1,
           1,
           1,
           0,
           0,
           1,
           1,
           1,
           1,
           null,
           1,
           1,
           1,
           1,
           0,
           1,
           0,
           null,
           null,
           1,
           1,
           1,
           1,
           1,
           1,
           0,
           1,
           1,
           0,
           0,
           1,
           1,
           1,
           0,
           1,
           1,
           1,
           1,
           1,
           1,
           1,
           0,
           1,
           0,
           1,
           0,
           1,
           1,
           1,
           0,
           1,
           0,
           1,
           1
          ],
          "colorbar": {
           "title": {
            "text": "Fatal"
           }
          },
          "colorscale": [
           [
            0,
            "#440154"
           ],
           [
            0.1111111111111111,
            "#482878"
           ],
           [
            0.2222222222222222,
            "#3e4989"
           ],
           [
            0.3333333333333333,
            "#31688e"
           ],
           [
            0.4444444444444444,
            "#26828e"
           ],
           [
            0.5555555555555556,
            "#1f9e89"
           ],
           [
            0.6666666666666666,
            "#35b779"
           ],
           [
            0.7777777777777778,
            "#6ece58"
           ],
           [
            0.8888888888888888,
            "#b5de2b"
           ],
           [
            1,
            "#fde725"
           ]
          ],
          "size": 5
         },
         "mode": "markers",
         "type": "scatter3d",
         "x": [
          3.1821678719960005,
          -6.837473809542104,
          9.528499978902985,
          -4.500116390252401,
          15.356174305770963,
          1.8948078475278294,
          0.48051383583540996,
          -2.103749651466785,
          53.07217749557043,
          -1.3443451965616475,
          -5.0226228653816065,
          4.45565693022111,
          -0.44985851937795474,
          -1.675593335265745,
          47.67555556007257,
          -41.22682442586239,
          8.170875641692646,
          -1.4835523568778513,
          27.256234135531017,
          -13.26608961272862,
          45.55897765701937,
          4.315858307070698,
          6.60295444203885,
          -38.15079385134925,
          32.870411907258955,
          -6.619544394459581,
          -7.0925061903420215,
          5.291706755572221,
          -1.06272592732185,
          -9.505267301453415,
          11.022465575373417,
          -16.626951601235362,
          -15.963940137302188,
          32.037149515467675,
          21.753937749289747,
          -19.93871258166388,
          -2.6853563847366786,
          0.6123400270745947,
          -36.60894431942748,
          -13.382514140268086,
          1.9418784720797646,
          -15.844505636692162,
          41.30406928249441,
          6.565195813797331,
          -19.5558574804885,
          17.68944853995515,
          -14.869757719575489,
          3.2299221143333057,
          -1.035519663920951,
          42.984860753920316,
          15.797634251443611,
          -4.921201648092307,
          -2.27555272712695,
          4.342206636695323,
          1.1010212066330212,
          26.757927120380202,
          4.6369684415465,
          -14.439745130833899,
          -41.05018707356825,
          -25.566431751113583,
          7.481269921692487,
          7.481269921692487,
          -3.7436701141787125,
          -32.95949921773337,
          -39.12129429715898,
          -35.106061340809504,
          7.487723929733846,
          -45.49508089226521,
          24.105090166545637,
          36.888456714688076,
          -6.819054904294745,
          -45.23462903343699,
          23.542755204455375,
          -46.31155871786828,
          -40.07822046370586,
          11.011382399673778,
          41.89041356238215,
          4.360623553547839,
          7.487723929733846,
          42.07524065406649,
          -3.817900122661541,
          -0.7733398105166032,
          -35.075273727076535,
          37.24764243832506,
          -1.4739399647445453,
          -18.48459784959971,
          6.194374983771866,
          -13.611232123343001,
          -4.471281462635261,
          -6.4859337038654985,
          -15.375200364177175,
          41.772033954115216,
          -2.827596006283528,
          0.942101242732349,
          33.35735994977121,
          -37.205560554652095,
          -36.05031097890304,
          -15.141528825520993,
          17.886338991609918,
          -4.466089749109784,
          37.50840095594454,
          -7.4563805220768415,
          19.721161941237412,
          13.180292039558736,
          9.259209887104205,
          5.37818504615764,
          -41.61757732871476,
          1.1397452548811486,
          -3.1123314071468258,
          38.585573697328655,
          -0.5177655946697257,
          -8.033091622250794,
          42.695505927299834,
          -17.785030552532533,
          -22.0870219482168,
          1.2967034657873455,
          -42.13644452571623,
          0.5145616437512217,
          null,
          null,
          null,
          null,
          null,
          null,
          null,
          null,
          null,
          null,
          null,
          null,
          null,
          null,
          null,
          null,
          null,
          null,
          null,
          null,
          null,
          null,
          null,
          null
         ],
         "y": [
          7.151569739443419,
          2.432837975731706,
          -13.932668583928091,
          55.34106758429792,
          11.427826798778796,
          -15.47740802866732,
          6.261426473048859,
          7.071813815018335,
          -12.112568888478602,
          36.36367660225198,
          -14.668208495215278,
          -9.352107730737295,
          18.56464069852035,
          22.396388375595823,
          0.6223328991091434,
          6.031589588179053,
          0.36037222992606,
          0.2794784153161697,
          1.1461057106818164,
          -26.649491048358943,
          -21.388171896467746,
          -21.47628316958869,
          -26.770160100749656,
          -0.9999957722265161,
          49.64864204915022,
          -11.06612297533447,
          30.440985370551687,
          0.5105750755359374,
          20.480514537058088,
          16.008437007940294,
          -10.682176974133219,
          29.009218168606353,
          21.816587849062312,
          19.18732219497891,
          51.51066123367197,
          -5.632708539222203,
          -31.67670706923319,
          -4.376059147388058,
          -5.807288669745745,
          10.10225399963298,
          9.880757422119459,
          -3.364793309720245,
          10.66809659207822,
          -15.993102394644776,
          -3.59808574346043,
          19.864841695309458,
          -27.70741982819772,
          -5.520360053661822,
          11.021763900768384,
          -15.145801621851298,
          -10.64667978807372,
          13.831998931415683,
          24.28878447923371,
          -35.607322276825,
          1.1558512125954379,
          32.16764015415217,
          17.67081276729851,
          -0.15147946602699613,
          -5.975703679210638,
          7.189120402662108,
          -18.861043718726417,
          -18.861043718726417,
          11.04916839675009,
          -23.663758115037922,
          13.154330541024262,
          20.72132998871657,
          -18.872782586176342,
          -26.606445830427553,
          39.54926741685872,
          3.954242426276432,
          -42.85336056137854,
          -15.529120850784565,
          -14.277995310906634,
          24.65887086765921,
          1.4994863650195955,
          28.687415471914097,
          -8.949616644490316,
          -28.25230022989476,
          -18.872782586176342,
          -12.289599165219581,
          -0.5473833439673198,
          -16.608511735146394,
          -45.86006588453604,
          -26.331869973997733,
          3.8727349020737614,
          8.01041864076814,
          -31.97734923436611,
          17.294787847716414,
          -17.77755084394151,
          10.124808458876009,
          -17.104101178825772,
          -11.337531679675678,
          8.18122707266845,
          -7.33706146903507,
          0.6103537517943615,
          0.1469812061878738,
          -6.698550569929071,
          -7.373974811119704,
          -11.71707988633873,
          10.824255325874102,
          -8.59311394020606,
          10.877426482559539,
          -3.0632296320732286,
          -4.226410333742718,
          -11.91325770633453,
          -12.231787922268861,
          1.204086042614739,
          1.0854180078958806,
          31.3609899076964,
          9.86243388735437,
          -1.5644010875993732,
          28.20713951845913,
          -21.114948669714064,
          -8.420253167540647,
          -14.91124430005679,
          23.731603699870654,
          8.887792044810766,
          0.915841718347323,
          null,
          null,
          null,
          null,
          null,
          null,
          null,
          null,
          null,
          null,
          null,
          null,
          null,
          null,
          null,
          null,
          null,
          null,
          null,
          null,
          null,
          null,
          null,
          null
         ],
         "z": [
          -5.566002305016415,
          6.31888288743599,
          -6.256434299501855,
          -11.259934936830483,
          11.77208143276371,
          -1.814067608619606,
          -4.086315571864926,
          -17.873430595565043,
          6.500443013587951,
          -10.526147132449324,
          0.8813155021178716,
          -3.279228038601275,
          -5.139095778518847,
          -4.933198926890231,
          13.430657523699697,
          9.315312463014184,
          -5.721564180951447,
          -1.4572891497487497,
          21.118338694879757,
          0.34888112233948476,
          -5.911588417444094,
          9.496913937071728,
          2.186607094828158,
          1.4571403601553605,
          8.856417996439706,
          4.604239734756124,
          12.177298272455996,
          -5.776420058775699,
          -5.036147352704543,
          -15.534550422643786,
          2.7334256719123324,
          -1.6432285679210317,
          1.1519192357792996,
          2.781920485807227,
          3.9596916394856123,
          -0.23987366584458059,
          -0.8628948326301646,
          -1.1400138820850252,
          1.1588870038220982,
          -1.960111067810331,
          -5.283009880603757,
          0.42627789040335884,
          1.1371020669293053,
          -3.489645792360559,
          4.062794858167539,
          2.8659059730994905,
          10.638550525783895,
          -3.073331186972659,
          -3.8970816603249716,
          1.2831620167279318,
          -11.468069782887767,
          -0.46287060135841784,
          -4.884760223472579,
          -3.408648790421843,
          -2.781148849618404,
          3.418662092351095,
          4.4233645750598924,
          10.376077054631327,
          -2.6105452412019865,
          1.5796143627135386,
          -3.630441000482861,
          -3.630441000482861,
          0.4631354541514803,
          3.6757649165804303,
          5.551253250785329,
          7.355186708210216,
          -3.6576958616811837,
          5.903507577183159,
          6.286661655057486,
          2.1763719688793763,
          6.436762994339016,
          -7.852096524552035,
          10.75021831044796,
          2.3699840376778063,
          0.15610457112424925,
          16.7508969488911,
          -2.5641568673579407,
          -3.7301835647445962,
          -3.6576958616811837,
          1.3967023636519045,
          0.24763388642626083,
          5.561947241276176,
          -9.178402791637954,
          -0.2856053353076007,
          -15.746034725023094,
          10.77742793107932,
          -1.0285647909357643,
          1.2880772394218027,
          4.230292813806884,
          0.9895866546466259,
          5.208545016178821,
          1.4345491459598954,
          0.322340246029178,
          -1.7600634082126732,
          4.766038638627762,
          5.4318057765904975,
          1.2620596569961826,
          1.6050410486170321,
          -21.29156750742085,
          -0.40768057031458227,
          4.251415684115479,
          0.7017952741221514,
          13.499836694027369,
          -9.417788145749654,
          -6.377447673572881,
          -3.4472781079218997,
          -2.473231211954893,
          -2.9446780168083606,
          -5.317438964988511,
          -1.104165824469991,
          -0.9244894520441207,
          -16.630742490190183,
          -9.647502646477722,
          7.805554954478016,
          3.083086012165353,
          -15.350858608108293,
          9.428852809938153,
          -2.1974232159391534,
          null,
          null,
          null,
          null,
          null,
          null,
          null,
          null,
          null,
          null,
          null,
          null,
          null,
          null,
          null,
          null,
          null,
          null,
          null,
          null,
          null,
          null,
          null,
          null
         ]
        }
       ],
       "layout": {
        "scene": {
         "xaxis": {
          "title": {
           "text": "PC1"
          }
         },
         "yaxis": {
          "title": {
           "text": "PC2"
          }
         },
         "zaxis": {
          "title": {
           "text": "PC3"
          }
         }
        },
        "template": {
         "data": {
          "bar": [
           {
            "error_x": {
             "color": "#2a3f5f"
            },
            "error_y": {
             "color": "#2a3f5f"
            },
            "marker": {
             "line": {
              "color": "#E5ECF6",
              "width": 0.5
             },
             "pattern": {
              "fillmode": "overlay",
              "size": 10,
              "solidity": 0.2
             }
            },
            "type": "bar"
           }
          ],
          "barpolar": [
           {
            "marker": {
             "line": {
              "color": "#E5ECF6",
              "width": 0.5
             },
             "pattern": {
              "fillmode": "overlay",
              "size": 10,
              "solidity": 0.2
             }
            },
            "type": "barpolar"
           }
          ],
          "carpet": [
           {
            "aaxis": {
             "endlinecolor": "#2a3f5f",
             "gridcolor": "white",
             "linecolor": "white",
             "minorgridcolor": "white",
             "startlinecolor": "#2a3f5f"
            },
            "baxis": {
             "endlinecolor": "#2a3f5f",
             "gridcolor": "white",
             "linecolor": "white",
             "minorgridcolor": "white",
             "startlinecolor": "#2a3f5f"
            },
            "type": "carpet"
           }
          ],
          "choropleth": [
           {
            "colorbar": {
             "outlinewidth": 0,
             "ticks": ""
            },
            "type": "choropleth"
           }
          ],
          "contour": [
           {
            "colorbar": {
             "outlinewidth": 0,
             "ticks": ""
            },
            "colorscale": [
             [
              0,
              "#0d0887"
             ],
             [
              0.1111111111111111,
              "#46039f"
             ],
             [
              0.2222222222222222,
              "#7201a8"
             ],
             [
              0.3333333333333333,
              "#9c179e"
             ],
             [
              0.4444444444444444,
              "#bd3786"
             ],
             [
              0.5555555555555556,
              "#d8576b"
             ],
             [
              0.6666666666666666,
              "#ed7953"
             ],
             [
              0.7777777777777778,
              "#fb9f3a"
             ],
             [
              0.8888888888888888,
              "#fdca26"
             ],
             [
              1,
              "#f0f921"
             ]
            ],
            "type": "contour"
           }
          ],
          "contourcarpet": [
           {
            "colorbar": {
             "outlinewidth": 0,
             "ticks": ""
            },
            "type": "contourcarpet"
           }
          ],
          "heatmap": [
           {
            "colorbar": {
             "outlinewidth": 0,
             "ticks": ""
            },
            "colorscale": [
             [
              0,
              "#0d0887"
             ],
             [
              0.1111111111111111,
              "#46039f"
             ],
             [
              0.2222222222222222,
              "#7201a8"
             ],
             [
              0.3333333333333333,
              "#9c179e"
             ],
             [
              0.4444444444444444,
              "#bd3786"
             ],
             [
              0.5555555555555556,
              "#d8576b"
             ],
             [
              0.6666666666666666,
              "#ed7953"
             ],
             [
              0.7777777777777778,
              "#fb9f3a"
             ],
             [
              0.8888888888888888,
              "#fdca26"
             ],
             [
              1,
              "#f0f921"
             ]
            ],
            "type": "heatmap"
           }
          ],
          "heatmapgl": [
           {
            "colorbar": {
             "outlinewidth": 0,
             "ticks": ""
            },
            "colorscale": [
             [
              0,
              "#0d0887"
             ],
             [
              0.1111111111111111,
              "#46039f"
             ],
             [
              0.2222222222222222,
              "#7201a8"
             ],
             [
              0.3333333333333333,
              "#9c179e"
             ],
             [
              0.4444444444444444,
              "#bd3786"
             ],
             [
              0.5555555555555556,
              "#d8576b"
             ],
             [
              0.6666666666666666,
              "#ed7953"
             ],
             [
              0.7777777777777778,
              "#fb9f3a"
             ],
             [
              0.8888888888888888,
              "#fdca26"
             ],
             [
              1,
              "#f0f921"
             ]
            ],
            "type": "heatmapgl"
           }
          ],
          "histogram": [
           {
            "marker": {
             "pattern": {
              "fillmode": "overlay",
              "size": 10,
              "solidity": 0.2
             }
            },
            "type": "histogram"
           }
          ],
          "histogram2d": [
           {
            "colorbar": {
             "outlinewidth": 0,
             "ticks": ""
            },
            "colorscale": [
             [
              0,
              "#0d0887"
             ],
             [
              0.1111111111111111,
              "#46039f"
             ],
             [
              0.2222222222222222,
              "#7201a8"
             ],
             [
              0.3333333333333333,
              "#9c179e"
             ],
             [
              0.4444444444444444,
              "#bd3786"
             ],
             [
              0.5555555555555556,
              "#d8576b"
             ],
             [
              0.6666666666666666,
              "#ed7953"
             ],
             [
              0.7777777777777778,
              "#fb9f3a"
             ],
             [
              0.8888888888888888,
              "#fdca26"
             ],
             [
              1,
              "#f0f921"
             ]
            ],
            "type": "histogram2d"
           }
          ],
          "histogram2dcontour": [
           {
            "colorbar": {
             "outlinewidth": 0,
             "ticks": ""
            },
            "colorscale": [
             [
              0,
              "#0d0887"
             ],
             [
              0.1111111111111111,
              "#46039f"
             ],
             [
              0.2222222222222222,
              "#7201a8"
             ],
             [
              0.3333333333333333,
              "#9c179e"
             ],
             [
              0.4444444444444444,
              "#bd3786"
             ],
             [
              0.5555555555555556,
              "#d8576b"
             ],
             [
              0.6666666666666666,
              "#ed7953"
             ],
             [
              0.7777777777777778,
              "#fb9f3a"
             ],
             [
              0.8888888888888888,
              "#fdca26"
             ],
             [
              1,
              "#f0f921"
             ]
            ],
            "type": "histogram2dcontour"
           }
          ],
          "mesh3d": [
           {
            "colorbar": {
             "outlinewidth": 0,
             "ticks": ""
            },
            "type": "mesh3d"
           }
          ],
          "parcoords": [
           {
            "line": {
             "colorbar": {
              "outlinewidth": 0,
              "ticks": ""
             }
            },
            "type": "parcoords"
           }
          ],
          "pie": [
           {
            "automargin": true,
            "type": "pie"
           }
          ],
          "scatter": [
           {
            "fillpattern": {
             "fillmode": "overlay",
             "size": 10,
             "solidity": 0.2
            },
            "type": "scatter"
           }
          ],
          "scatter3d": [
           {
            "line": {
             "colorbar": {
              "outlinewidth": 0,
              "ticks": ""
             }
            },
            "marker": {
             "colorbar": {
              "outlinewidth": 0,
              "ticks": ""
             }
            },
            "type": "scatter3d"
           }
          ],
          "scattercarpet": [
           {
            "marker": {
             "colorbar": {
              "outlinewidth": 0,
              "ticks": ""
             }
            },
            "type": "scattercarpet"
           }
          ],
          "scattergeo": [
           {
            "marker": {
             "colorbar": {
              "outlinewidth": 0,
              "ticks": ""
             }
            },
            "type": "scattergeo"
           }
          ],
          "scattergl": [
           {
            "marker": {
             "colorbar": {
              "outlinewidth": 0,
              "ticks": ""
             }
            },
            "type": "scattergl"
           }
          ],
          "scattermapbox": [
           {
            "marker": {
             "colorbar": {
              "outlinewidth": 0,
              "ticks": ""
             }
            },
            "type": "scattermapbox"
           }
          ],
          "scatterpolar": [
           {
            "marker": {
             "colorbar": {
              "outlinewidth": 0,
              "ticks": ""
             }
            },
            "type": "scatterpolar"
           }
          ],
          "scatterpolargl": [
           {
            "marker": {
             "colorbar": {
              "outlinewidth": 0,
              "ticks": ""
             }
            },
            "type": "scatterpolargl"
           }
          ],
          "scatterternary": [
           {
            "marker": {
             "colorbar": {
              "outlinewidth": 0,
              "ticks": ""
             }
            },
            "type": "scatterternary"
           }
          ],
          "surface": [
           {
            "colorbar": {
             "outlinewidth": 0,
             "ticks": ""
            },
            "colorscale": [
             [
              0,
              "#0d0887"
             ],
             [
              0.1111111111111111,
              "#46039f"
             ],
             [
              0.2222222222222222,
              "#7201a8"
             ],
             [
              0.3333333333333333,
              "#9c179e"
             ],
             [
              0.4444444444444444,
              "#bd3786"
             ],
             [
              0.5555555555555556,
              "#d8576b"
             ],
             [
              0.6666666666666666,
              "#ed7953"
             ],
             [
              0.7777777777777778,
              "#fb9f3a"
             ],
             [
              0.8888888888888888,
              "#fdca26"
             ],
             [
              1,
              "#f0f921"
             ]
            ],
            "type": "surface"
           }
          ],
          "table": [
           {
            "cells": {
             "fill": {
              "color": "#EBF0F8"
             },
             "line": {
              "color": "white"
             }
            },
            "header": {
             "fill": {
              "color": "#C8D4E3"
             },
             "line": {
              "color": "white"
             }
            },
            "type": "table"
           }
          ]
         },
         "layout": {
          "annotationdefaults": {
           "arrowcolor": "#2a3f5f",
           "arrowhead": 0,
           "arrowwidth": 1
          },
          "autotypenumbers": "strict",
          "coloraxis": {
           "colorbar": {
            "outlinewidth": 0,
            "ticks": ""
           }
          },
          "colorscale": {
           "diverging": [
            [
             0,
             "#8e0152"
            ],
            [
             0.1,
             "#c51b7d"
            ],
            [
             0.2,
             "#de77ae"
            ],
            [
             0.3,
             "#f1b6da"
            ],
            [
             0.4,
             "#fde0ef"
            ],
            [
             0.5,
             "#f7f7f7"
            ],
            [
             0.6,
             "#e6f5d0"
            ],
            [
             0.7,
             "#b8e186"
            ],
            [
             0.8,
             "#7fbc41"
            ],
            [
             0.9,
             "#4d9221"
            ],
            [
             1,
             "#276419"
            ]
           ],
           "sequential": [
            [
             0,
             "#0d0887"
            ],
            [
             0.1111111111111111,
             "#46039f"
            ],
            [
             0.2222222222222222,
             "#7201a8"
            ],
            [
             0.3333333333333333,
             "#9c179e"
            ],
            [
             0.4444444444444444,
             "#bd3786"
            ],
            [
             0.5555555555555556,
             "#d8576b"
            ],
            [
             0.6666666666666666,
             "#ed7953"
            ],
            [
             0.7777777777777778,
             "#fb9f3a"
            ],
            [
             0.8888888888888888,
             "#fdca26"
            ],
            [
             1,
             "#f0f921"
            ]
           ],
           "sequentialminus": [
            [
             0,
             "#0d0887"
            ],
            [
             0.1111111111111111,
             "#46039f"
            ],
            [
             0.2222222222222222,
             "#7201a8"
            ],
            [
             0.3333333333333333,
             "#9c179e"
            ],
            [
             0.4444444444444444,
             "#bd3786"
            ],
            [
             0.5555555555555556,
             "#d8576b"
            ],
            [
             0.6666666666666666,
             "#ed7953"
            ],
            [
             0.7777777777777778,
             "#fb9f3a"
            ],
            [
             0.8888888888888888,
             "#fdca26"
            ],
            [
             1,
             "#f0f921"
            ]
           ]
          },
          "colorway": [
           "#636efa",
           "#EF553B",
           "#00cc96",
           "#ab63fa",
           "#FFA15A",
           "#19d3f3",
           "#FF6692",
           "#B6E880",
           "#FF97FF",
           "#FECB52"
          ],
          "font": {
           "color": "#2a3f5f"
          },
          "geo": {
           "bgcolor": "white",
           "lakecolor": "white",
           "landcolor": "#E5ECF6",
           "showlakes": true,
           "showland": true,
           "subunitcolor": "white"
          },
          "hoverlabel": {
           "align": "left"
          },
          "hovermode": "closest",
          "mapbox": {
           "style": "light"
          },
          "paper_bgcolor": "white",
          "plot_bgcolor": "#E5ECF6",
          "polar": {
           "angularaxis": {
            "gridcolor": "white",
            "linecolor": "white",
            "ticks": ""
           },
           "bgcolor": "#E5ECF6",
           "radialaxis": {
            "gridcolor": "white",
            "linecolor": "white",
            "ticks": ""
           }
          },
          "scene": {
           "xaxis": {
            "backgroundcolor": "#E5ECF6",
            "gridcolor": "white",
            "gridwidth": 2,
            "linecolor": "white",
            "showbackground": true,
            "ticks": "",
            "zerolinecolor": "white"
           },
           "yaxis": {
            "backgroundcolor": "#E5ECF6",
            "gridcolor": "white",
            "gridwidth": 2,
            "linecolor": "white",
            "showbackground": true,
            "ticks": "",
            "zerolinecolor": "white"
           },
           "zaxis": {
            "backgroundcolor": "#E5ECF6",
            "gridcolor": "white",
            "gridwidth": 2,
            "linecolor": "white",
            "showbackground": true,
            "ticks": "",
            "zerolinecolor": "white"
           }
          },
          "shapedefaults": {
           "line": {
            "color": "#2a3f5f"
           }
          },
          "ternary": {
           "aaxis": {
            "gridcolor": "white",
            "linecolor": "white",
            "ticks": ""
           },
           "baxis": {
            "gridcolor": "white",
            "linecolor": "white",
            "ticks": ""
           },
           "bgcolor": "#E5ECF6",
           "caxis": {
            "gridcolor": "white",
            "linecolor": "white",
            "ticks": ""
           }
          },
          "title": {
           "x": 0.05
          },
          "xaxis": {
           "automargin": true,
           "gridcolor": "white",
           "linecolor": "white",
           "ticks": "",
           "title": {
            "standoff": 15
           },
           "zerolinecolor": "white",
           "zerolinewidth": 2
          },
          "yaxis": {
           "automargin": true,
           "gridcolor": "white",
           "linecolor": "white",
           "ticks": "",
           "title": {
            "standoff": 15
           },
           "zerolinecolor": "white",
           "zerolinewidth": 2
          }
         }
        },
        "title": {
         "text": "Interactive 3D Scatter Plot"
        }
       }
      }
     },
     "metadata": {},
     "output_type": "display_data"
    }
   ],
   "source": [
    "data = pd.concat([X_train , y_train.astype('int')] , axis = 1)\n",
    "import plotly.graph_objects as go\n",
    "\n",
    "# Create the 3D scatter plot\n",
    "fig = go.Figure(data=[go.Scatter3d(\n",
    "    x=data['PC1'],  # X axis\n",
    "    y=data['PC2'],  # Y axis\n",
    "    z=data['PC3'],  # Z axis\n",
    "    mode='markers',\n",
    "    marker=dict(\n",
    "        size=5,\n",
    "        color=data['Fatal'],  # Set color to 'Fatal' column\n",
    "        colorscale='Viridis',  # Color scale\n",
    "        colorbar=dict(title='Fatal'),  # Color bar label\n",
    "    )\n",
    ")])\n",
    "\n",
    "# Update the layout to add axis labels\n",
    "fig.update_layout(\n",
    "    scene=dict(\n",
    "        xaxis_title='PC1',\n",
    "        yaxis_title='PC2',\n",
    "        zaxis_title='PC3'\n",
    "    ),\n",
    "    title=\"Interactive 3D Scatter Plot\",\n",
    ")\n",
    "\n",
    "# Show the interactive plot\n",
    "fig.show()"
   ]
  },
  {
   "cell_type": "code",
   "execution_count": 101,
   "metadata": {},
   "outputs": [
    {
     "data": {
      "text/html": [
       "<style>#sk-container-id-6 {\n",
       "  /* Definition of color scheme common for light and dark mode */\n",
       "  --sklearn-color-text: black;\n",
       "  --sklearn-color-line: gray;\n",
       "  /* Definition of color scheme for unfitted estimators */\n",
       "  --sklearn-color-unfitted-level-0: #fff5e6;\n",
       "  --sklearn-color-unfitted-level-1: #f6e4d2;\n",
       "  --sklearn-color-unfitted-level-2: #ffe0b3;\n",
       "  --sklearn-color-unfitted-level-3: chocolate;\n",
       "  /* Definition of color scheme for fitted estimators */\n",
       "  --sklearn-color-fitted-level-0: #f0f8ff;\n",
       "  --sklearn-color-fitted-level-1: #d4ebff;\n",
       "  --sklearn-color-fitted-level-2: #b3dbfd;\n",
       "  --sklearn-color-fitted-level-3: cornflowerblue;\n",
       "\n",
       "  /* Specific color for light theme */\n",
       "  --sklearn-color-text-on-default-background: var(--sg-text-color, var(--theme-code-foreground, var(--jp-content-font-color1, black)));\n",
       "  --sklearn-color-background: var(--sg-background-color, var(--theme-background, var(--jp-layout-color0, white)));\n",
       "  --sklearn-color-border-box: var(--sg-text-color, var(--theme-code-foreground, var(--jp-content-font-color1, black)));\n",
       "  --sklearn-color-icon: #696969;\n",
       "\n",
       "  @media (prefers-color-scheme: dark) {\n",
       "    /* Redefinition of color scheme for dark theme */\n",
       "    --sklearn-color-text-on-default-background: var(--sg-text-color, var(--theme-code-foreground, var(--jp-content-font-color1, white)));\n",
       "    --sklearn-color-background: var(--sg-background-color, var(--theme-background, var(--jp-layout-color0, #111)));\n",
       "    --sklearn-color-border-box: var(--sg-text-color, var(--theme-code-foreground, var(--jp-content-font-color1, white)));\n",
       "    --sklearn-color-icon: #878787;\n",
       "  }\n",
       "}\n",
       "\n",
       "#sk-container-id-6 {\n",
       "  color: var(--sklearn-color-text);\n",
       "}\n",
       "\n",
       "#sk-container-id-6 pre {\n",
       "  padding: 0;\n",
       "}\n",
       "\n",
       "#sk-container-id-6 input.sk-hidden--visually {\n",
       "  border: 0;\n",
       "  clip: rect(1px 1px 1px 1px);\n",
       "  clip: rect(1px, 1px, 1px, 1px);\n",
       "  height: 1px;\n",
       "  margin: -1px;\n",
       "  overflow: hidden;\n",
       "  padding: 0;\n",
       "  position: absolute;\n",
       "  width: 1px;\n",
       "}\n",
       "\n",
       "#sk-container-id-6 div.sk-dashed-wrapped {\n",
       "  border: 1px dashed var(--sklearn-color-line);\n",
       "  margin: 0 0.4em 0.5em 0.4em;\n",
       "  box-sizing: border-box;\n",
       "  padding-bottom: 0.4em;\n",
       "  background-color: var(--sklearn-color-background);\n",
       "}\n",
       "\n",
       "#sk-container-id-6 div.sk-container {\n",
       "  /* jupyter's `normalize.less` sets `[hidden] { display: none; }`\n",
       "     but bootstrap.min.css set `[hidden] { display: none !important; }`\n",
       "     so we also need the `!important` here to be able to override the\n",
       "     default hidden behavior on the sphinx rendered scikit-learn.org.\n",
       "     See: https://github.com/scikit-learn/scikit-learn/issues/21755 */\n",
       "  display: inline-block !important;\n",
       "  position: relative;\n",
       "}\n",
       "\n",
       "#sk-container-id-6 div.sk-text-repr-fallback {\n",
       "  display: none;\n",
       "}\n",
       "\n",
       "div.sk-parallel-item,\n",
       "div.sk-serial,\n",
       "div.sk-item {\n",
       "  /* draw centered vertical line to link estimators */\n",
       "  background-image: linear-gradient(var(--sklearn-color-text-on-default-background), var(--sklearn-color-text-on-default-background));\n",
       "  background-size: 2px 100%;\n",
       "  background-repeat: no-repeat;\n",
       "  background-position: center center;\n",
       "}\n",
       "\n",
       "/* Parallel-specific style estimator block */\n",
       "\n",
       "#sk-container-id-6 div.sk-parallel-item::after {\n",
       "  content: \"\";\n",
       "  width: 100%;\n",
       "  border-bottom: 2px solid var(--sklearn-color-text-on-default-background);\n",
       "  flex-grow: 1;\n",
       "}\n",
       "\n",
       "#sk-container-id-6 div.sk-parallel {\n",
       "  display: flex;\n",
       "  align-items: stretch;\n",
       "  justify-content: center;\n",
       "  background-color: var(--sklearn-color-background);\n",
       "  position: relative;\n",
       "}\n",
       "\n",
       "#sk-container-id-6 div.sk-parallel-item {\n",
       "  display: flex;\n",
       "  flex-direction: column;\n",
       "}\n",
       "\n",
       "#sk-container-id-6 div.sk-parallel-item:first-child::after {\n",
       "  align-self: flex-end;\n",
       "  width: 50%;\n",
       "}\n",
       "\n",
       "#sk-container-id-6 div.sk-parallel-item:last-child::after {\n",
       "  align-self: flex-start;\n",
       "  width: 50%;\n",
       "}\n",
       "\n",
       "#sk-container-id-6 div.sk-parallel-item:only-child::after {\n",
       "  width: 0;\n",
       "}\n",
       "\n",
       "/* Serial-specific style estimator block */\n",
       "\n",
       "#sk-container-id-6 div.sk-serial {\n",
       "  display: flex;\n",
       "  flex-direction: column;\n",
       "  align-items: center;\n",
       "  background-color: var(--sklearn-color-background);\n",
       "  padding-right: 1em;\n",
       "  padding-left: 1em;\n",
       "}\n",
       "\n",
       "\n",
       "/* Toggleable style: style used for estimator/Pipeline/ColumnTransformer box that is\n",
       "clickable and can be expanded/collapsed.\n",
       "- Pipeline and ColumnTransformer use this feature and define the default style\n",
       "- Estimators will overwrite some part of the style using the `sk-estimator` class\n",
       "*/\n",
       "\n",
       "/* Pipeline and ColumnTransformer style (default) */\n",
       "\n",
       "#sk-container-id-6 div.sk-toggleable {\n",
       "  /* Default theme specific background. It is overwritten whether we have a\n",
       "  specific estimator or a Pipeline/ColumnTransformer */\n",
       "  background-color: var(--sklearn-color-background);\n",
       "}\n",
       "\n",
       "/* Toggleable label */\n",
       "#sk-container-id-6 label.sk-toggleable__label {\n",
       "  cursor: pointer;\n",
       "  display: block;\n",
       "  width: 100%;\n",
       "  margin-bottom: 0;\n",
       "  padding: 0.5em;\n",
       "  box-sizing: border-box;\n",
       "  text-align: center;\n",
       "}\n",
       "\n",
       "#sk-container-id-6 label.sk-toggleable__label-arrow:before {\n",
       "  /* Arrow on the left of the label */\n",
       "  content: \"▸\";\n",
       "  float: left;\n",
       "  margin-right: 0.25em;\n",
       "  color: var(--sklearn-color-icon);\n",
       "}\n",
       "\n",
       "#sk-container-id-6 label.sk-toggleable__label-arrow:hover:before {\n",
       "  color: var(--sklearn-color-text);\n",
       "}\n",
       "\n",
       "/* Toggleable content - dropdown */\n",
       "\n",
       "#sk-container-id-6 div.sk-toggleable__content {\n",
       "  max-height: 0;\n",
       "  max-width: 0;\n",
       "  overflow: hidden;\n",
       "  text-align: left;\n",
       "  /* unfitted */\n",
       "  background-color: var(--sklearn-color-unfitted-level-0);\n",
       "}\n",
       "\n",
       "#sk-container-id-6 div.sk-toggleable__content.fitted {\n",
       "  /* fitted */\n",
       "  background-color: var(--sklearn-color-fitted-level-0);\n",
       "}\n",
       "\n",
       "#sk-container-id-6 div.sk-toggleable__content pre {\n",
       "  margin: 0.2em;\n",
       "  border-radius: 0.25em;\n",
       "  color: var(--sklearn-color-text);\n",
       "  /* unfitted */\n",
       "  background-color: var(--sklearn-color-unfitted-level-0);\n",
       "}\n",
       "\n",
       "#sk-container-id-6 div.sk-toggleable__content.fitted pre {\n",
       "  /* unfitted */\n",
       "  background-color: var(--sklearn-color-fitted-level-0);\n",
       "}\n",
       "\n",
       "#sk-container-id-6 input.sk-toggleable__control:checked~div.sk-toggleable__content {\n",
       "  /* Expand drop-down */\n",
       "  max-height: 200px;\n",
       "  max-width: 100%;\n",
       "  overflow: auto;\n",
       "}\n",
       "\n",
       "#sk-container-id-6 input.sk-toggleable__control:checked~label.sk-toggleable__label-arrow:before {\n",
       "  content: \"▾\";\n",
       "}\n",
       "\n",
       "/* Pipeline/ColumnTransformer-specific style */\n",
       "\n",
       "#sk-container-id-6 div.sk-label input.sk-toggleable__control:checked~label.sk-toggleable__label {\n",
       "  color: var(--sklearn-color-text);\n",
       "  background-color: var(--sklearn-color-unfitted-level-2);\n",
       "}\n",
       "\n",
       "#sk-container-id-6 div.sk-label.fitted input.sk-toggleable__control:checked~label.sk-toggleable__label {\n",
       "  background-color: var(--sklearn-color-fitted-level-2);\n",
       "}\n",
       "\n",
       "/* Estimator-specific style */\n",
       "\n",
       "/* Colorize estimator box */\n",
       "#sk-container-id-6 div.sk-estimator input.sk-toggleable__control:checked~label.sk-toggleable__label {\n",
       "  /* unfitted */\n",
       "  background-color: var(--sklearn-color-unfitted-level-2);\n",
       "}\n",
       "\n",
       "#sk-container-id-6 div.sk-estimator.fitted input.sk-toggleable__control:checked~label.sk-toggleable__label {\n",
       "  /* fitted */\n",
       "  background-color: var(--sklearn-color-fitted-level-2);\n",
       "}\n",
       "\n",
       "#sk-container-id-6 div.sk-label label.sk-toggleable__label,\n",
       "#sk-container-id-6 div.sk-label label {\n",
       "  /* The background is the default theme color */\n",
       "  color: var(--sklearn-color-text-on-default-background);\n",
       "}\n",
       "\n",
       "/* On hover, darken the color of the background */\n",
       "#sk-container-id-6 div.sk-label:hover label.sk-toggleable__label {\n",
       "  color: var(--sklearn-color-text);\n",
       "  background-color: var(--sklearn-color-unfitted-level-2);\n",
       "}\n",
       "\n",
       "/* Label box, darken color on hover, fitted */\n",
       "#sk-container-id-6 div.sk-label.fitted:hover label.sk-toggleable__label.fitted {\n",
       "  color: var(--sklearn-color-text);\n",
       "  background-color: var(--sklearn-color-fitted-level-2);\n",
       "}\n",
       "\n",
       "/* Estimator label */\n",
       "\n",
       "#sk-container-id-6 div.sk-label label {\n",
       "  font-family: monospace;\n",
       "  font-weight: bold;\n",
       "  display: inline-block;\n",
       "  line-height: 1.2em;\n",
       "}\n",
       "\n",
       "#sk-container-id-6 div.sk-label-container {\n",
       "  text-align: center;\n",
       "}\n",
       "\n",
       "/* Estimator-specific */\n",
       "#sk-container-id-6 div.sk-estimator {\n",
       "  font-family: monospace;\n",
       "  border: 1px dotted var(--sklearn-color-border-box);\n",
       "  border-radius: 0.25em;\n",
       "  box-sizing: border-box;\n",
       "  margin-bottom: 0.5em;\n",
       "  /* unfitted */\n",
       "  background-color: var(--sklearn-color-unfitted-level-0);\n",
       "}\n",
       "\n",
       "#sk-container-id-6 div.sk-estimator.fitted {\n",
       "  /* fitted */\n",
       "  background-color: var(--sklearn-color-fitted-level-0);\n",
       "}\n",
       "\n",
       "/* on hover */\n",
       "#sk-container-id-6 div.sk-estimator:hover {\n",
       "  /* unfitted */\n",
       "  background-color: var(--sklearn-color-unfitted-level-2);\n",
       "}\n",
       "\n",
       "#sk-container-id-6 div.sk-estimator.fitted:hover {\n",
       "  /* fitted */\n",
       "  background-color: var(--sklearn-color-fitted-level-2);\n",
       "}\n",
       "\n",
       "/* Specification for estimator info (e.g. \"i\" and \"?\") */\n",
       "\n",
       "/* Common style for \"i\" and \"?\" */\n",
       "\n",
       ".sk-estimator-doc-link,\n",
       "a:link.sk-estimator-doc-link,\n",
       "a:visited.sk-estimator-doc-link {\n",
       "  float: right;\n",
       "  font-size: smaller;\n",
       "  line-height: 1em;\n",
       "  font-family: monospace;\n",
       "  background-color: var(--sklearn-color-background);\n",
       "  border-radius: 1em;\n",
       "  height: 1em;\n",
       "  width: 1em;\n",
       "  text-decoration: none !important;\n",
       "  margin-left: 1ex;\n",
       "  /* unfitted */\n",
       "  border: var(--sklearn-color-unfitted-level-1) 1pt solid;\n",
       "  color: var(--sklearn-color-unfitted-level-1);\n",
       "}\n",
       "\n",
       ".sk-estimator-doc-link.fitted,\n",
       "a:link.sk-estimator-doc-link.fitted,\n",
       "a:visited.sk-estimator-doc-link.fitted {\n",
       "  /* fitted */\n",
       "  border: var(--sklearn-color-fitted-level-1) 1pt solid;\n",
       "  color: var(--sklearn-color-fitted-level-1);\n",
       "}\n",
       "\n",
       "/* On hover */\n",
       "div.sk-estimator:hover .sk-estimator-doc-link:hover,\n",
       ".sk-estimator-doc-link:hover,\n",
       "div.sk-label-container:hover .sk-estimator-doc-link:hover,\n",
       ".sk-estimator-doc-link:hover {\n",
       "  /* unfitted */\n",
       "  background-color: var(--sklearn-color-unfitted-level-3);\n",
       "  color: var(--sklearn-color-background);\n",
       "  text-decoration: none;\n",
       "}\n",
       "\n",
       "div.sk-estimator.fitted:hover .sk-estimator-doc-link.fitted:hover,\n",
       ".sk-estimator-doc-link.fitted:hover,\n",
       "div.sk-label-container:hover .sk-estimator-doc-link.fitted:hover,\n",
       ".sk-estimator-doc-link.fitted:hover {\n",
       "  /* fitted */\n",
       "  background-color: var(--sklearn-color-fitted-level-3);\n",
       "  color: var(--sklearn-color-background);\n",
       "  text-decoration: none;\n",
       "}\n",
       "\n",
       "/* Span, style for the box shown on hovering the info icon */\n",
       ".sk-estimator-doc-link span {\n",
       "  display: none;\n",
       "  z-index: 9999;\n",
       "  position: relative;\n",
       "  font-weight: normal;\n",
       "  right: .2ex;\n",
       "  padding: .5ex;\n",
       "  margin: .5ex;\n",
       "  width: min-content;\n",
       "  min-width: 20ex;\n",
       "  max-width: 50ex;\n",
       "  color: var(--sklearn-color-text);\n",
       "  box-shadow: 2pt 2pt 4pt #999;\n",
       "  /* unfitted */\n",
       "  background: var(--sklearn-color-unfitted-level-0);\n",
       "  border: .5pt solid var(--sklearn-color-unfitted-level-3);\n",
       "}\n",
       "\n",
       ".sk-estimator-doc-link.fitted span {\n",
       "  /* fitted */\n",
       "  background: var(--sklearn-color-fitted-level-0);\n",
       "  border: var(--sklearn-color-fitted-level-3);\n",
       "}\n",
       "\n",
       ".sk-estimator-doc-link:hover span {\n",
       "  display: block;\n",
       "}\n",
       "\n",
       "/* \"?\"-specific style due to the `<a>` HTML tag */\n",
       "\n",
       "#sk-container-id-6 a.estimator_doc_link {\n",
       "  float: right;\n",
       "  font-size: 1rem;\n",
       "  line-height: 1em;\n",
       "  font-family: monospace;\n",
       "  background-color: var(--sklearn-color-background);\n",
       "  border-radius: 1rem;\n",
       "  height: 1rem;\n",
       "  width: 1rem;\n",
       "  text-decoration: none;\n",
       "  /* unfitted */\n",
       "  color: var(--sklearn-color-unfitted-level-1);\n",
       "  border: var(--sklearn-color-unfitted-level-1) 1pt solid;\n",
       "}\n",
       "\n",
       "#sk-container-id-6 a.estimator_doc_link.fitted {\n",
       "  /* fitted */\n",
       "  border: var(--sklearn-color-fitted-level-1) 1pt solid;\n",
       "  color: var(--sklearn-color-fitted-level-1);\n",
       "}\n",
       "\n",
       "/* On hover */\n",
       "#sk-container-id-6 a.estimator_doc_link:hover {\n",
       "  /* unfitted */\n",
       "  background-color: var(--sklearn-color-unfitted-level-3);\n",
       "  color: var(--sklearn-color-background);\n",
       "  text-decoration: none;\n",
       "}\n",
       "\n",
       "#sk-container-id-6 a.estimator_doc_link.fitted:hover {\n",
       "  /* fitted */\n",
       "  background-color: var(--sklearn-color-fitted-level-3);\n",
       "}\n",
       "</style><div id=\"sk-container-id-6\" class=\"sk-top-container\"><div class=\"sk-text-repr-fallback\"><pre>GridSearchCV(cv=5,\n",
       "             estimator=LogisticRegression(max_iter=10000, random_state=42),\n",
       "             param_grid={&#x27;C&#x27;: [0.6474171369288088, 0.4596839454632913,\n",
       "                               0.33696156187353743, 0.9531310884889255,\n",
       "                               0.27057894999200566, 0.8823223876233951,\n",
       "                               0.5769826299757885, 0.4280534234129925,\n",
       "                               0.607855751761208, 0.843711016029062,\n",
       "                               0.6844049144765344, 0.853058284928222,\n",
       "                               0.8895973221582547, 0.026181...\n",
       "                               0.8271561369242209, 0.7453762663007771,\n",
       "                               0.0645986825603304, 0.048389840476123484,\n",
       "                               0.6902336962569718, 0.7690526668774559,\n",
       "                               0.6803630900048159, 0.4500388244528739,\n",
       "                               0.29334194449290757, 0.6450394386529117,\n",
       "                               0.32041313189144044, 0.4986943571291623,\n",
       "                               0.34733192362286636, 0.3015771334938669,\n",
       "                               0.040269896174388586, 0.5906757148146479, ...],\n",
       "                         &#x27;penalty&#x27;: [&#x27;l1&#x27;, &#x27;l2&#x27;],\n",
       "                         &#x27;solver&#x27;: [&#x27;liblinear&#x27;, &#x27;saga&#x27;]},\n",
       "             verbose=False)</pre><b>In a Jupyter environment, please rerun this cell to show the HTML representation or trust the notebook. <br />On GitHub, the HTML representation is unable to render, please try loading this page with nbviewer.org.</b></div><div class=\"sk-container\" hidden><div class=\"sk-item sk-dashed-wrapped\"><div class=\"sk-label-container\"><div class=\"sk-label fitted sk-toggleable\"><input class=\"sk-toggleable__control sk-hidden--visually\" id=\"sk-estimator-id-16\" type=\"checkbox\" ><label for=\"sk-estimator-id-16\" class=\"sk-toggleable__label fitted sk-toggleable__label-arrow fitted\">&nbsp;&nbsp;GridSearchCV<a class=\"sk-estimator-doc-link fitted\" rel=\"noreferrer\" target=\"_blank\" href=\"https://scikit-learn.org/1.5/modules/generated/sklearn.model_selection.GridSearchCV.html\">?<span>Documentation for GridSearchCV</span></a><span class=\"sk-estimator-doc-link fitted\">i<span>Fitted</span></span></label><div class=\"sk-toggleable__content fitted\"><pre>GridSearchCV(cv=5,\n",
       "             estimator=LogisticRegression(max_iter=10000, random_state=42),\n",
       "             param_grid={&#x27;C&#x27;: [0.6474171369288088, 0.4596839454632913,\n",
       "                               0.33696156187353743, 0.9531310884889255,\n",
       "                               0.27057894999200566, 0.8823223876233951,\n",
       "                               0.5769826299757885, 0.4280534234129925,\n",
       "                               0.607855751761208, 0.843711016029062,\n",
       "                               0.6844049144765344, 0.853058284928222,\n",
       "                               0.8895973221582547, 0.026181...\n",
       "                               0.8271561369242209, 0.7453762663007771,\n",
       "                               0.0645986825603304, 0.048389840476123484,\n",
       "                               0.6902336962569718, 0.7690526668774559,\n",
       "                               0.6803630900048159, 0.4500388244528739,\n",
       "                               0.29334194449290757, 0.6450394386529117,\n",
       "                               0.32041313189144044, 0.4986943571291623,\n",
       "                               0.34733192362286636, 0.3015771334938669,\n",
       "                               0.040269896174388586, 0.5906757148146479, ...],\n",
       "                         &#x27;penalty&#x27;: [&#x27;l1&#x27;, &#x27;l2&#x27;],\n",
       "                         &#x27;solver&#x27;: [&#x27;liblinear&#x27;, &#x27;saga&#x27;]},\n",
       "             verbose=False)</pre></div> </div></div><div class=\"sk-parallel\"><div class=\"sk-parallel-item\"><div class=\"sk-item\"><div class=\"sk-label-container\"><div class=\"sk-label fitted sk-toggleable\"><input class=\"sk-toggleable__control sk-hidden--visually\" id=\"sk-estimator-id-17\" type=\"checkbox\" ><label for=\"sk-estimator-id-17\" class=\"sk-toggleable__label fitted sk-toggleable__label-arrow fitted\">best_estimator_: LogisticRegression</label><div class=\"sk-toggleable__content fitted\"><pre>LogisticRegression(C=0.048389840476123484, max_iter=10000, penalty=&#x27;l1&#x27;,\n",
       "                   random_state=42, solver=&#x27;saga&#x27;)</pre></div> </div></div><div class=\"sk-serial\"><div class=\"sk-item\"><div class=\"sk-estimator fitted sk-toggleable\"><input class=\"sk-toggleable__control sk-hidden--visually\" id=\"sk-estimator-id-18\" type=\"checkbox\" ><label for=\"sk-estimator-id-18\" class=\"sk-toggleable__label fitted sk-toggleable__label-arrow fitted\">&nbsp;LogisticRegression<a class=\"sk-estimator-doc-link fitted\" rel=\"noreferrer\" target=\"_blank\" href=\"https://scikit-learn.org/1.5/modules/generated/sklearn.linear_model.LogisticRegression.html\">?<span>Documentation for LogisticRegression</span></a></label><div class=\"sk-toggleable__content fitted\"><pre>LogisticRegression(C=0.048389840476123484, max_iter=10000, penalty=&#x27;l1&#x27;,\n",
       "                   random_state=42, solver=&#x27;saga&#x27;)</pre></div> </div></div></div></div></div></div></div></div></div>"
      ],
      "text/plain": [
       "GridSearchCV(cv=5,\n",
       "             estimator=LogisticRegression(max_iter=10000, random_state=42),\n",
       "             param_grid={'C': [0.6474171369288088, 0.4596839454632913,\n",
       "                               0.33696156187353743, 0.9531310884889255,\n",
       "                               0.27057894999200566, 0.8823223876233951,\n",
       "                               0.5769826299757885, 0.4280534234129925,\n",
       "                               0.607855751761208, 0.843711016029062,\n",
       "                               0.6844049144765344, 0.853058284928222,\n",
       "                               0.8895973221582547, 0.026181...\n",
       "                               0.8271561369242209, 0.7453762663007771,\n",
       "                               0.0645986825603304, 0.048389840476123484,\n",
       "                               0.6902336962569718, 0.7690526668774559,\n",
       "                               0.6803630900048159, 0.4500388244528739,\n",
       "                               0.29334194449290757, 0.6450394386529117,\n",
       "                               0.32041313189144044, 0.4986943571291623,\n",
       "                               0.34733192362286636, 0.3015771334938669,\n",
       "                               0.040269896174388586, 0.5906757148146479, ...],\n",
       "                         'penalty': ['l1', 'l2'],\n",
       "                         'solver': ['liblinear', 'saga']},\n",
       "             verbose=False)"
      ]
     },
     "execution_count": 101,
     "metadata": {},
     "output_type": "execute_result"
    }
   ],
   "source": [
    "import random\n",
    "from sklearn.model_selection import GridSearchCV\n",
    "\n",
    "hyperparameters = {\n",
    "    'C' : [random.uniform(0.01, 1.0) for _ in range(100)],\n",
    "    'solver' : [ 'liblinear' , 'saga'],\n",
    "    'penalty' : ['l1', 'l2' ]\n",
    "}\n",
    "\n",
    "\n",
    "base_model = LogisticRegression(random_state= 42 , max_iter= 10000)\n",
    "gs = GridSearchCV(base_model , hyperparameters , verbose=False , cv = 5)\n",
    "gs.fit(X_train , np.ravel(y_train))\n"
   ]
  },
  {
   "cell_type": "code",
   "execution_count": 102,
   "metadata": {},
   "outputs": [
    {
     "data": {
      "text/plain": [
       "<sklearn.metrics._plot.confusion_matrix.ConfusionMatrixDisplay at 0x178a68f47c0>"
      ]
     },
     "execution_count": 102,
     "metadata": {},
     "output_type": "execute_result"
    }
   ],
   "source": [
    "from sklearn.metrics import RocCurveDisplay\n",
    "logit = gs.best_estimator_\n",
    "y_train_pred = logit.predict(X_train)\n",
    "from sklearn.metrics import confusion_matrix , ConfusionMatrixDisplay\n",
    "ConfusionMatrixDisplay.from_predictions(y_train , y_train_pred , normalize='true' )"
   ]
  },
  {
   "cell_type": "code",
   "execution_count": 103,
   "metadata": {},
   "outputs": [
    {
     "data": {
      "text/plain": [
       "0\n",
       "1    0.974576\n",
       "0    0.025424\n",
       "Name: count, dtype: float64"
      ]
     },
     "execution_count": 103,
     "metadata": {},
     "output_type": "execute_result"
    }
   ],
   "source": [
    "pd.DataFrame(y_train_pred).value_counts()/len(y_train_pred)"
   ]
  },
  {
   "cell_type": "code",
   "execution_count": 104,
   "metadata": {},
   "outputs": [
    {
     "data": {
      "text/plain": [
       "Fatal\n",
       "1    0.745763\n",
       "0    0.254237\n",
       "Name: count, dtype: float64"
      ]
     },
     "execution_count": 104,
     "metadata": {},
     "output_type": "execute_result"
    }
   ],
   "source": [
    "y_train.value_counts()/len(y_train)"
   ]
  },
  {
   "cell_type": "code",
   "execution_count": 105,
   "metadata": {},
   "outputs": [
    {
     "name": "stdout",
     "output_type": "stream",
     "text": [
      "True positive rate: 0.99\n",
      "False positive rate: 0.93\n",
      "True negative rate: 0.01\n",
      "False Negative rate: 0.07\n"
     ]
    },
    {
     "data": {
      "text/plain": [
       "<Figure size 640x480 with 0 Axes>"
      ]
     },
     "metadata": {},
     "output_type": "display_data"
    },
    {
     "data": {
      "image/png": "[encoded data removed]",
      "text/plain": [
       "<Figure size 640x480 with 2 Axes>"
      ]
     },
     "metadata": {},
     "output_type": "display_data"
    }
   ],
   "source": [
    "plt.clf()\n",
    "from sklearn.metrics import confusion_matrix , ConfusionMatrixDisplay\n",
    "\n",
    "conf_m = confusion_matrix(y_train , y_train_pred ,     normalize='true')\n",
    "tp , fp , tn , fn = conf_m[1,1] , conf_m[0,1] , conf_m[1,0] , conf_m[0,0]\n",
    "print(f\"True positive rate: {tp:.2f}\")\n",
    "print(f\"False positive rate: {fp:.2f}\")\n",
    "print(f\"True negative rate: {tn:.2f}\")\n",
    "print(f\"False Negative rate: {fn:.2f}\")\n",
    "\n",
    "ConfusionMatrixDisplay.from_predictions(y_train , y_train_pred , normalize='true' )\n",
    "plt.show()"
   ]
  },
  {
   "cell_type": "code",
   "execution_count": 114,
   "metadata": {},
   "outputs": [
    {
     "data": {
      "image/png": "[encoded data removed]",
      "text/plain": [
       "<Figure size 640x480 with 1 Axes>"
      ]
     },
     "metadata": {},
     "output_type": "display_data"
    }
   ],
   "source": [
    "from sklearn.metrics import RocCurveDisplay\n",
    "\n",
    "RocCurveDisplay.from_predictions(y_train, y_train_pred)\n",
    "plt.show()"
   ]
  },
  {
   "cell_type": "code",
   "execution_count": 107,
   "metadata": {},
   "outputs": [
    {
     "data": {
      "text/plain": [
       "0.8333333333333334"
      ]
     },
     "execution_count": 107,
     "metadata": {},
     "output_type": "execute_result"
    }
   ],
   "source": [
    "X_test = pd.DataFrame(pca.transform(X_test) , columns = ['PC1' , \"PC2\" , \"PC3\"])\n",
    "logit.score(X_test , y_test)"
   ]
  }
 ],
 "metadata": {
  "kernelspec": {
   "display_name": "sandbox",
   "language": "python",
   "name": "python3"
  },
  "language_info": {
   "codemirror_mode": {
    "name": "ipython",
    "version": 3
   },
   "file_extension": ".py",
   "mimetype": "text/x-python",
   "name": "python",
   "nbconvert_exporter": "python",
   "pygments_lexer": "ipython3",
   "version": "3.10.14"
  }
 },
 "nbformat": 4,
 "nbformat_minor": 2
}
