{
 "cells": [
  {
   "cell_type": "code",
   "execution_count": 1,
   "metadata": {},
   "outputs": [],
   "source": [
    "import datetime as dt\n",
    "import math\n",
    "import numpy as np\n",
    "import pandas as pd\n",
    "import matplotlib.pyplot as plt\n",
    "import seaborn as sns\n",
    "from sklearn.linear_model import LogisticRegression\n",
    "from sklearn.preprocessing import StandardScaler\n",
    "from sklearn.model_selection import train_test_split"
   ]
  },
  {
   "cell_type": "code",
   "execution_count": 2,
   "metadata": {},
   "outputs": [
    {
     "data": {
      "text/html": [
       "<div>\n",
       "<style scoped>\n",
       "    .dataframe tbody tr th:only-of-type {\n",
       "        vertical-align: middle;\n",
       "    }\n",
       "\n",
       "    .dataframe tbody tr th {\n",
       "        vertical-align: top;\n",
       "    }\n",
       "\n",
       "    .dataframe thead th {\n",
       "        text-align: right;\n",
       "    }\n",
       "</style>\n",
       "<table border=\"1\" class=\"dataframe\">\n",
       "  <thead>\n",
       "    <tr style=\"text-align: right;\">\n",
       "      <th></th>\n",
       "      <th>Date</th>\n",
       "      <th>Location</th>\n",
       "      <th>Details</th>\n",
       "      <th>Bear</th>\n",
       "      <th>Latitude</th>\n",
       "      <th>Longitude</th>\n",
       "      <th>Name</th>\n",
       "      <th>Age</th>\n",
       "      <th>Gender</th>\n",
       "    </tr>\n",
       "  </thead>\n",
       "  <tbody>\n",
       "    <tr>\n",
       "      <th>0</th>\n",
       "      <td>August 23, 2018</td>\n",
       "      <td>Lyon Inlet, Nunavut</td>\n",
       "      <td>Three men from Naujaat, whose boat had broken ...</td>\n",
       "      <td>Polar</td>\n",
       "      <td>66.534160</td>\n",
       "      <td>-83.882170</td>\n",
       "      <td>Darryl Kaunak</td>\n",
       "      <td>33</td>\n",
       "      <td>male</td>\n",
       "    </tr>\n",
       "    <tr>\n",
       "      <th>1</th>\n",
       "      <td>July 3, 2018</td>\n",
       "      <td>Sentry Island, Nunavut</td>\n",
       "      <td>A polar bear approached a man and his children...</td>\n",
       "      <td>Polar</td>\n",
       "      <td>61.167230</td>\n",
       "      <td>-93.850150</td>\n",
       "      <td>Aaron Gibbons</td>\n",
       "      <td>31</td>\n",
       "      <td>male</td>\n",
       "    </tr>\n",
       "    <tr>\n",
       "      <th>2</th>\n",
       "      <td>July 9, 1999</td>\n",
       "      <td>near Rankin Inlet, Nunavut</td>\n",
       "      <td>Amitnak was mauled after trying to distract a ...</td>\n",
       "      <td>Polar</td>\n",
       "      <td>62.808913</td>\n",
       "      <td>-92.087741</td>\n",
       "      <td>Hattie Amitnak</td>\n",
       "      <td>64</td>\n",
       "      <td>female</td>\n",
       "    </tr>\n",
       "    <tr>\n",
       "      <th>3</th>\n",
       "      <td>December 8, 1990</td>\n",
       "      <td>Point Lay, Alaska</td>\n",
       "      <td>While Stalker was walking with his girlfriend,...</td>\n",
       "      <td>Polar</td>\n",
       "      <td>69.742800</td>\n",
       "      <td>-163.011250</td>\n",
       "      <td>Carl Stalker</td>\n",
       "      <td>28</td>\n",
       "      <td>male</td>\n",
       "    </tr>\n",
       "    <tr>\n",
       "      <th>4</th>\n",
       "      <td>November 29, 1983</td>\n",
       "      <td>Churchill, Manitoba</td>\n",
       "      <td>Mutanen was attacked and dragged on a street i...</td>\n",
       "      <td>Polar</td>\n",
       "      <td>58.767755</td>\n",
       "      <td>-94.163998</td>\n",
       "      <td>Thomas Mutanen</td>\n",
       "      <td>46</td>\n",
       "      <td>male</td>\n",
       "    </tr>\n",
       "  </tbody>\n",
       "</table>\n",
       "</div>"
      ],
      "text/plain": [
       "                Date                    Location  \\\n",
       "0    August 23, 2018       Lyon Inlet, Nunavut     \n",
       "1       July 3, 2018      Sentry Island, Nunavut   \n",
       "2       July 9, 1999  near Rankin Inlet, Nunavut   \n",
       "3   December 8, 1990           Point Lay, Alaska   \n",
       "4  November 29, 1983         Churchill, Manitoba   \n",
       "\n",
       "                                             Details   Bear   Latitude  \\\n",
       "0  Three men from Naujaat, whose boat had broken ...  Polar  66.534160   \n",
       "1  A polar bear approached a man and his children...  Polar  61.167230   \n",
       "2  Amitnak was mauled after trying to distract a ...  Polar  62.808913   \n",
       "3  While Stalker was walking with his girlfriend,...  Polar  69.742800   \n",
       "4  Mutanen was attacked and dragged on a street i...  Polar  58.767755   \n",
       "\n",
       "    Longitude            Name  Age   Gender  \n",
       "0  -83.882170   Darryl Kaunak   33     male  \n",
       "1  -93.850150   Aaron Gibbons   31     male  \n",
       "2  -92.087741  Hattie Amitnak   64   female  \n",
       "3 -163.011250    Carl Stalker   28     male  \n",
       "4  -94.163998  Thomas Mutanen   46     male  "
      ]
     },
     "execution_count": 2,
     "metadata": {},
     "output_type": "execute_result"
    }
   ],
   "source": [
    "df = pd.read_csv(\"bear_attacks.csv\" )\n",
    "df.head()"
   ]
  },
  {
   "cell_type": "code",
   "execution_count": 3,
   "metadata": {},
   "outputs": [
    {
     "data": {
      "text/html": [
       "<div>\n",
       "<style scoped>\n",
       "    .dataframe tbody tr th:only-of-type {\n",
       "        vertical-align: middle;\n",
       "    }\n",
       "\n",
       "    .dataframe tbody tr th {\n",
       "        vertical-align: top;\n",
       "    }\n",
       "\n",
       "    .dataframe thead th {\n",
       "        text-align: right;\n",
       "    }\n",
       "</style>\n",
       "<table border=\"1\" class=\"dataframe\">\n",
       "  <thead>\n",
       "    <tr style=\"text-align: right;\">\n",
       "      <th></th>\n",
       "      <th>Date</th>\n",
       "      <th>Location</th>\n",
       "      <th>Details</th>\n",
       "      <th>Bear</th>\n",
       "      <th>Latitude</th>\n",
       "      <th>Longitude</th>\n",
       "      <th>Name</th>\n",
       "      <th>Age</th>\n",
       "      <th>Gender</th>\n",
       "      <th>Fatal</th>\n",
       "    </tr>\n",
       "  </thead>\n",
       "  <tbody>\n",
       "    <tr>\n",
       "      <th>0</th>\n",
       "      <td>August 23, 2018</td>\n",
       "      <td>Lyon Inlet, Nunavut</td>\n",
       "      <td>Three men from Naujaat, whose boat had broken ...</td>\n",
       "      <td>Polar</td>\n",
       "      <td>66.534160</td>\n",
       "      <td>-83.882170</td>\n",
       "      <td>Darryl Kaunak</td>\n",
       "      <td>33</td>\n",
       "      <td>male</td>\n",
       "      <td>1</td>\n",
       "    </tr>\n",
       "    <tr>\n",
       "      <th>1</th>\n",
       "      <td>July 3, 2018</td>\n",
       "      <td>Sentry Island, Nunavut</td>\n",
       "      <td>A polar bear approached a man and his children...</td>\n",
       "      <td>Polar</td>\n",
       "      <td>61.167230</td>\n",
       "      <td>-93.850150</td>\n",
       "      <td>Aaron Gibbons</td>\n",
       "      <td>31</td>\n",
       "      <td>male</td>\n",
       "      <td>1</td>\n",
       "    </tr>\n",
       "    <tr>\n",
       "      <th>2</th>\n",
       "      <td>July 9, 1999</td>\n",
       "      <td>near Rankin Inlet, Nunavut</td>\n",
       "      <td>Amitnak was mauled after trying to distract a ...</td>\n",
       "      <td>Polar</td>\n",
       "      <td>62.808913</td>\n",
       "      <td>-92.087741</td>\n",
       "      <td>Hattie Amitnak</td>\n",
       "      <td>64</td>\n",
       "      <td>female</td>\n",
       "      <td>0</td>\n",
       "    </tr>\n",
       "    <tr>\n",
       "      <th>3</th>\n",
       "      <td>December 8, 1990</td>\n",
       "      <td>Point Lay, Alaska</td>\n",
       "      <td>While Stalker was walking with his girlfriend,...</td>\n",
       "      <td>Polar</td>\n",
       "      <td>69.742800</td>\n",
       "      <td>-163.011250</td>\n",
       "      <td>Carl Stalker</td>\n",
       "      <td>28</td>\n",
       "      <td>male</td>\n",
       "      <td>1</td>\n",
       "    </tr>\n",
       "    <tr>\n",
       "      <th>4</th>\n",
       "      <td>November 29, 1983</td>\n",
       "      <td>Churchill, Manitoba</td>\n",
       "      <td>Mutanen was attacked and dragged on a street i...</td>\n",
       "      <td>Polar</td>\n",
       "      <td>58.767755</td>\n",
       "      <td>-94.163998</td>\n",
       "      <td>Thomas Mutanen</td>\n",
       "      <td>46</td>\n",
       "      <td>male</td>\n",
       "      <td>0</td>\n",
       "    </tr>\n",
       "  </tbody>\n",
       "</table>\n",
       "</div>"
      ],
      "text/plain": [
       "                Date                    Location  \\\n",
       "0    August 23, 2018       Lyon Inlet, Nunavut     \n",
       "1       July 3, 2018      Sentry Island, Nunavut   \n",
       "2       July 9, 1999  near Rankin Inlet, Nunavut   \n",
       "3   December 8, 1990           Point Lay, Alaska   \n",
       "4  November 29, 1983         Churchill, Manitoba   \n",
       "\n",
       "                                             Details   Bear   Latitude  \\\n",
       "0  Three men from Naujaat, whose boat had broken ...  Polar  66.534160   \n",
       "1  A polar bear approached a man and his children...  Polar  61.167230   \n",
       "2  Amitnak was mauled after trying to distract a ...  Polar  62.808913   \n",
       "3  While Stalker was walking with his girlfriend,...  Polar  69.742800   \n",
       "4  Mutanen was attacked and dragged on a street i...  Polar  58.767755   \n",
       "\n",
       "    Longitude            Name  Age   Gender  Fatal  \n",
       "0  -83.882170   Darryl Kaunak   33     male      1  \n",
       "1  -93.850150   Aaron Gibbons   31     male      1  \n",
       "2  -92.087741  Hattie Amitnak   64   female      0  \n",
       "3 -163.011250    Carl Stalker   28     male      1  \n",
       "4  -94.163998  Thomas Mutanen   46     male      0  "
      ]
     },
     "execution_count": 3,
     "metadata": {},
     "output_type": "execute_result"
    }
   ],
   "source": [
    "def is_fatal(details):\n",
    "\n",
    "    fatal_keywords = [\n",
    "    'died', 'killed', 'fatal', 'dead', 'mauled to death', 'succumbed',\n",
    "    'did not survive', 'passed away', 'pronounced dead', 'lost his life',\n",
    "    'lost her life', 'slain', 'fatally injured', 'mortally wounded'\n",
    "    ]\n",
    "    return any(keyword in details.lower() for keyword in fatal_keywords)\n",
    "\n",
    "\n",
    "df['Fatal'] = df['Details'].apply(is_fatal).astype(int)\n",
    "df.head()"
   ]
  },
  {
   "cell_type": "code",
   "execution_count": 4,
   "metadata": {},
   "outputs": [
    {
     "data": {
      "text/plain": [
       "array([33.0, 31.0, 64.0, 28.0, 46.0, 18.0, 19.0, 62.0, 27.0, 16.0, 22.0,\n",
       "       36.0, 61.0, 72.0, 74.0, 70.0, 11.0, 6.0, 30.0, 69.0, 71.0, 77.0,\n",
       "       0.4166666666666667, 93.0, 24.0, 50.0, 56.0, 37.0, 53.0, 4.0, 20.0,\n",
       "       32.0, 48.0, 12.0, 55.0, 26.0, 44.0, 10.0, 15.0, 51.0, 7.0, 3.0,\n",
       "       5.0, 52.0, nan, 82.0, 8.0, 0.8333333333333334, 38.0, 63.0, 42.0,\n",
       "       54.0, 49.0, 59.0, 57.0, 60.0, 58.0, 35.0, 41.0, 65.0, 40.0, 45.0,\n",
       "       29.0, 25.0, 23.0, 43.0, 68.0], dtype=object)"
      ]
     },
     "execution_count": 4,
     "metadata": {},
     "output_type": "execute_result"
    }
   ],
   "source": [
    "def convert_age(age):\n",
    "    if pd.isna(age) or age == '':  # Handle NaN\n",
    "        return math.nan\n",
    "    if isinstance(age, str):\n",
    "        age = age.strip()  # Remove leading/trailing whitespace\n",
    "        # Handle months\n",
    "        if 'months' in age:\n",
    "            months = int(age.split()[0])\n",
    "            return months / 12\n",
    "            \n",
    "        # Remove non-numeric characters like quotes, and try converting to float\n",
    "        age = ''.join(filter(str.isdigit, age))\n",
    "        if age:\n",
    "            return float(age)\n",
    "    return age # If it's already a number, return it as is\n",
    "\n",
    "# Reapply the function to clean and convert the 'Age' column\n",
    "df['Age'] = df['Age'].apply(convert_age)\n",
    "\n",
    "# Checking the unique values in the Age column to ensure the conversion was successful\n",
    "df.loc[df['Age'] == \"\" , 'Age'] = np.nan\n",
    "df['Age'].unique()"
   ]
  },
  {
   "cell_type": "code",
   "execution_count": 5,
   "metadata": {},
   "outputs": [
    {
     "data": {
      "image/png": "[encoded data removed]",
      "text/plain": [
       "<Figure size 640x480 with 1 Axes>"
      ]
     },
     "metadata": {},
     "output_type": "display_data"
    }
   ],
   "source": [
    "plt.clf()\n",
    "df['Fatal'] = pd.Categorical(df['Fatal'] , ordered=True)\n",
    "sns.scatterplot(data = df  ,  x = 'Latitude', y = 'Longitude' , hue = 'Fatal' ,    style = 'Bear' )\n",
    "plt.show()\n",
    "\n",
    "df['Fatal'] = pd.to_numeric(df['Fatal'])"
   ]
  },
  {
   "cell_type": "code",
   "execution_count": 6,
   "metadata": {},
   "outputs": [
    {
     "data": {
      "image/png": "[encoded data removed]",
      "text/plain": [
       "<Figure size 640x480 with 1 Axes>"
      ]
     },
     "metadata": {},
     "output_type": "display_data"
    }
   ],
   "source": [
    "plt.clf()\n",
    "df['Fatal'] = pd.Categorical(df['Fatal'] , ordered=True)\n",
    "sns.boxplot(data = df  ,  x = 'Fatal', y = 'Age' , hue = 'Bear' )\n",
    "plt.show()\n",
    "\n",
    "df['Fatal'] = pd.to_numeric(df['Fatal'])"
   ]
  },
  {
   "cell_type": "code",
   "execution_count": 7,
   "metadata": {},
   "outputs": [],
   "source": [
    "data = df[['Latitude' , 'Longitude' , 'Age' , 'Bear' , 'Fatal']]\n",
    "data = data.dropna()\n",
    "X = data[[ 'Latitude' , 'Longitude' , 'Age' , 'Bear']]\n",
    "X = pd.get_dummies( data = X, columns = ['Bear'])\n",
    "y = data['Fatal']\n",
    "X_train , X_test , y_train , y_test = train_test_split(X , y, train_size=0.80  , random_state= 42 , stratify= y)\n",
    "\n",
    "scaler = StandardScaler()\n",
    "\n",
    "X_train[[\"Latitude\" , \"Longitude\" , \"Age\"]] = scaler.fit_transform(X_train[[\"Latitude\" , \"Longitude\" , \"Age\"]] , np.ravel(y_train))\n",
    "X_test[[\"Latitude\" , \"Longitude\" , \"Age\"]] = scaler.transform(X_test[[\"Latitude\" , \"Longitude\" , \"Age\"]])\n",
    "\n",
    "\n",
    "base_model = LogisticRegression(random_state= 42)\n",
    "base_model.fit(X_train , np.ravel(y_train))\n",
    "\n",
    "\n",
    "coefs = np.ravel(base_model.coef_)\n",
    "#print(\"Model coefficients:\")\n",
    "#print(f\"y ~ ({coefs[0]:.2f} * Lat) + ({coefs[1]:.2f} * Long) + ({coefs[2]:.2f} * Age) + ({coefs[3]:.2f} * Black) + ({coefs[4]:.2f} * Brown) + ({coefs[5]:.2f} * Polar)\")"
   ]
  },
  {
   "cell_type": "markdown",
   "metadata": {},
   "source": [
    "## The Bear Model\n",
    "\n",
    "The probability of a fatal incident, $$ p(\\text{Fatal}) $$  can be defined by the following logistic function:\n",
    "\n",
    "$$\n",
    "p(\\text{Fatal}) = \\frac{1}{1 + e^{-[(-0.51 \\times \\text{Lat}) + (-0.81 \\times \\text{Long}) + (-0.14 \\times \\text{Age}) + f(\\text{bear})]}}\n",
    "$$\n",
    "\n",
    "where $$ f(\\text{bear}) $$ is a factor based on the bear type:\n",
    "\n",
    "$$\n",
    "f(\\text{bear}) = \n",
    "\\begin{cases} \n",
    "      0.23 & \\text{if black bear} \\\\\n",
    "      -0.32 & \\text{if brown bear} \\\\\n",
    "      0.09 & \\text{if polar bear} \n",
    "\\end{cases}\n",
    "$$\n"
   ]
  },
  {
   "cell_type": "code",
   "execution_count": 8,
   "metadata": {},
   "outputs": [
    {
     "name": "stdout",
     "output_type": "stream",
     "text": [
      "Training Model accuracy: 0.77\n",
      "Testing Model accuracy: 0.77\n"
     ]
    }
   ],
   "source": [
    "print(f\"Training Model accuracy: {base_model.score(X_train, np.ravel(y_train)):.2f}\")\n",
    "y_train_pred = base_model.predict(X_train)\n",
    "\n",
    "print(f\"Testing Model accuracy: {base_model.score(X_test, np.ravel(y_test)):.2f}\")\n",
    "y_test_pred = base_model.predict(X_test)"
   ]
  },
  {
   "cell_type": "code",
   "execution_count": 9,
   "metadata": {},
   "outputs": [
    {
     "name": "stdout",
     "output_type": "stream",
     "text": [
      "True positive rate: 0.99\n",
      "False positive rate: 0.90\n",
      "True negative rate: 0.10\n",
      "False Negative rate: 0.01\n"
     ]
    },
    {
     "data": {
      "image/png": "[encoded data removed]",
      "text/plain": [
       "<Figure size 640x480 with 2 Axes>"
      ]
     },
     "metadata": {},
     "output_type": "display_data"
    }
   ],
   "source": [
    "from sklearn.metrics import confusion_matrix , ConfusionMatrixDisplay\n",
    "ConfusionMatrixDisplay.from_predictions(np.ravel(y_train) , np.ravel(y_train_pred) , normalize='true' )\n",
    "conf_m = confusion_matrix(np.ravel(y_train) , np.ravel(y_train_pred), normalize='true')\n",
    "tp , fp , tn , fn = conf_m[1,1] , conf_m[0,1] , conf_m[0,0] , conf_m[1,0]\n",
    "print(f\"True positive rate: {tp:.2f}\")\n",
    "print(f\"False positive rate: {fp:.2f}\")\n",
    "print(f\"True negative rate: {tn:.2f}\")\n",
    "print(f\"False Negative rate: {fn:.2f}\")"
   ]
  },
  {
   "cell_type": "code",
   "execution_count": 10,
   "metadata": {},
   "outputs": [
    {
     "name": "stdout",
     "output_type": "stream",
     "text": [
      "True positive rate: 1.00\n",
      "False positive rate: 1.00\n",
      "True negative rate: 0.00\n",
      "False Negative rate: 0.00\n"
     ]
    },
    {
     "data": {
      "image/png": "[encoded data removed]",
      "text/plain": [
       "<Figure size 640x480 with 2 Axes>"
      ]
     },
     "metadata": {},
     "output_type": "display_data"
    }
   ],
   "source": [
    "ConfusionMatrixDisplay.from_predictions(np.ravel(y_test) , np.ravel(y_test_pred) , normalize='true' )\n",
    "conf_m = confusion_matrix(np.ravel(y_test) , np.ravel(y_test_pred), normalize='true')\n",
    "tp , fp , tn , fn = conf_m[1,1] , conf_m[0,1] , conf_m[0,0] , conf_m[1,0]\n",
    "print(f\"True positive rate: {tp:.2f}\")\n",
    "print(f\"False positive rate: {fp:.2f}\")\n",
    "print(f\"True negative rate: {tn:.2f}\")\n",
    "print(f\"False Negative rate: {fn:.2f}\")"
   ]
  },
  {
   "cell_type": "code",
   "execution_count": 11,
   "metadata": {},
   "outputs": [
    {
     "name": "stdout",
     "output_type": "stream",
     "text": [
      "Class proportions on training data:\n",
      "1: 0.19 %\n",
      "0: 0.06 %\n"
     ]
    }
   ],
   "source": [
    "props = y_test.value_counts() / len(y_train)\n",
    "\n",
    "print(\"Class proportions on training data:\")\n",
    "\n",
    "print(f\"1: {props[1]:.2f} %\")\n",
    "print(f\"0: {props[0]:.2f} %\")"
   ]
  }
 ],
 "metadata": {
  "kernelspec": {
   "display_name": "Python 3 (ipykernel)",
   "language": "python",
   "name": "python3"
  },
  "language_info": {
   "codemirror_mode": {
    "name": "ipython",
    "version": 3
   },
   "file_extension": ".py",
   "mimetype": "text/x-python",
   "name": "python",
   "nbconvert_exporter": "python",
   "pygments_lexer": "ipython3",
   "version": "3.12.3"
  }
 },
 "nbformat": 4,
 "nbformat_minor": 2
}
